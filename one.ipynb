{
 "cells": [
  {
   "cell_type": "code",
   "execution_count": 119,
   "id": "caba100d",
   "metadata": {},
   "outputs": [],
   "source": [
    "import matplotlib.pyplot as plt"
   ]
  },
  {
   "cell_type": "code",
   "execution_count": 3,
   "id": "b53eb4e4",
   "metadata": {},
   "outputs": [],
   "source": [
    "from sklearn.linear_model import LogisticRegression"
   ]
  },
  {
   "cell_type": "code",
   "execution_count": 5,
   "id": "5c21bcc9",
   "metadata": {},
   "outputs": [],
   "source": [
    "import pandas as pd\n",
    "import numpy as np"
   ]
  },
  {
   "cell_type": "code",
   "execution_count": 48,
   "id": "2cc50391",
   "metadata": {},
   "outputs": [
    {
     "name": "stderr",
     "output_type": "stream",
     "text": [
      "<>:1: SyntaxWarning: invalid escape sequence '\\c'\n",
      "<>:1: SyntaxWarning: invalid escape sequence '\\c'\n",
      "C:\\Users\\Lenovo\\AppData\\Local\\Temp\\ipykernel_4896\\1031926518.py:1: SyntaxWarning: invalid escape sequence '\\c'\n",
      "  df = pd.read_csv('E:\\churn_prediction\\WA_Fn-UseC_-Telco-Customer-Churn.csv')\n"
     ]
    }
   ],
   "source": [
    "df = pd.read_csv('E:\\churn_prediction\\WA_Fn-UseC_-Telco-Customer-Churn.csv')"
   ]
  },
  {
   "cell_type": "code",
   "execution_count": 18,
   "id": "6ba1bfc5",
   "metadata": {},
   "outputs": [
    {
     "data": {
      "text/html": [
       "<div>\n",
       "<style scoped>\n",
       "    .dataframe tbody tr th:only-of-type {\n",
       "        vertical-align: middle;\n",
       "    }\n",
       "\n",
       "    .dataframe tbody tr th {\n",
       "        vertical-align: top;\n",
       "    }\n",
       "\n",
       "    .dataframe thead th {\n",
       "        text-align: right;\n",
       "    }\n",
       "</style>\n",
       "<table border=\"1\" class=\"dataframe\">\n",
       "  <thead>\n",
       "    <tr style=\"text-align: right;\">\n",
       "      <th></th>\n",
       "      <th>customerID</th>\n",
       "      <th>gender</th>\n",
       "      <th>SeniorCitizen</th>\n",
       "      <th>Partner</th>\n",
       "      <th>Dependents</th>\n",
       "      <th>tenure</th>\n",
       "      <th>PhoneService</th>\n",
       "      <th>MultipleLines</th>\n",
       "      <th>InternetService</th>\n",
       "      <th>OnlineSecurity</th>\n",
       "      <th>...</th>\n",
       "      <th>DeviceProtection</th>\n",
       "      <th>TechSupport</th>\n",
       "      <th>StreamingTV</th>\n",
       "      <th>StreamingMovies</th>\n",
       "      <th>Contract</th>\n",
       "      <th>PaperlessBilling</th>\n",
       "      <th>PaymentMethod</th>\n",
       "      <th>MonthlyCharges</th>\n",
       "      <th>TotalCharges</th>\n",
       "      <th>Churn</th>\n",
       "    </tr>\n",
       "  </thead>\n",
       "  <tbody>\n",
       "    <tr>\n",
       "      <th>0</th>\n",
       "      <td>7590-VHVEG</td>\n",
       "      <td>Female</td>\n",
       "      <td>0</td>\n",
       "      <td>Yes</td>\n",
       "      <td>No</td>\n",
       "      <td>1</td>\n",
       "      <td>No</td>\n",
       "      <td>No phone service</td>\n",
       "      <td>DSL</td>\n",
       "      <td>No</td>\n",
       "      <td>...</td>\n",
       "      <td>No</td>\n",
       "      <td>No</td>\n",
       "      <td>No</td>\n",
       "      <td>No</td>\n",
       "      <td>Month-to-month</td>\n",
       "      <td>Yes</td>\n",
       "      <td>Electronic check</td>\n",
       "      <td>29.85</td>\n",
       "      <td>29.85</td>\n",
       "      <td>No</td>\n",
       "    </tr>\n",
       "    <tr>\n",
       "      <th>1</th>\n",
       "      <td>5575-GNVDE</td>\n",
       "      <td>Male</td>\n",
       "      <td>0</td>\n",
       "      <td>No</td>\n",
       "      <td>No</td>\n",
       "      <td>34</td>\n",
       "      <td>Yes</td>\n",
       "      <td>No</td>\n",
       "      <td>DSL</td>\n",
       "      <td>Yes</td>\n",
       "      <td>...</td>\n",
       "      <td>Yes</td>\n",
       "      <td>No</td>\n",
       "      <td>No</td>\n",
       "      <td>No</td>\n",
       "      <td>One year</td>\n",
       "      <td>No</td>\n",
       "      <td>Mailed check</td>\n",
       "      <td>56.95</td>\n",
       "      <td>1889.5</td>\n",
       "      <td>No</td>\n",
       "    </tr>\n",
       "    <tr>\n",
       "      <th>2</th>\n",
       "      <td>3668-QPYBK</td>\n",
       "      <td>Male</td>\n",
       "      <td>0</td>\n",
       "      <td>No</td>\n",
       "      <td>No</td>\n",
       "      <td>2</td>\n",
       "      <td>Yes</td>\n",
       "      <td>No</td>\n",
       "      <td>DSL</td>\n",
       "      <td>Yes</td>\n",
       "      <td>...</td>\n",
       "      <td>No</td>\n",
       "      <td>No</td>\n",
       "      <td>No</td>\n",
       "      <td>No</td>\n",
       "      <td>Month-to-month</td>\n",
       "      <td>Yes</td>\n",
       "      <td>Mailed check</td>\n",
       "      <td>53.85</td>\n",
       "      <td>108.15</td>\n",
       "      <td>Yes</td>\n",
       "    </tr>\n",
       "    <tr>\n",
       "      <th>3</th>\n",
       "      <td>7795-CFOCW</td>\n",
       "      <td>Male</td>\n",
       "      <td>0</td>\n",
       "      <td>No</td>\n",
       "      <td>No</td>\n",
       "      <td>45</td>\n",
       "      <td>No</td>\n",
       "      <td>No phone service</td>\n",
       "      <td>DSL</td>\n",
       "      <td>Yes</td>\n",
       "      <td>...</td>\n",
       "      <td>Yes</td>\n",
       "      <td>Yes</td>\n",
       "      <td>No</td>\n",
       "      <td>No</td>\n",
       "      <td>One year</td>\n",
       "      <td>No</td>\n",
       "      <td>Bank transfer (automatic)</td>\n",
       "      <td>42.30</td>\n",
       "      <td>1840.75</td>\n",
       "      <td>No</td>\n",
       "    </tr>\n",
       "    <tr>\n",
       "      <th>4</th>\n",
       "      <td>9237-HQITU</td>\n",
       "      <td>Female</td>\n",
       "      <td>0</td>\n",
       "      <td>No</td>\n",
       "      <td>No</td>\n",
       "      <td>2</td>\n",
       "      <td>Yes</td>\n",
       "      <td>No</td>\n",
       "      <td>Fiber optic</td>\n",
       "      <td>No</td>\n",
       "      <td>...</td>\n",
       "      <td>No</td>\n",
       "      <td>No</td>\n",
       "      <td>No</td>\n",
       "      <td>No</td>\n",
       "      <td>Month-to-month</td>\n",
       "      <td>Yes</td>\n",
       "      <td>Electronic check</td>\n",
       "      <td>70.70</td>\n",
       "      <td>151.65</td>\n",
       "      <td>Yes</td>\n",
       "    </tr>\n",
       "  </tbody>\n",
       "</table>\n",
       "<p>5 rows × 21 columns</p>\n",
       "</div>"
      ],
      "text/plain": [
       "   customerID  gender  SeniorCitizen Partner Dependents  tenure PhoneService  \\\n",
       "0  7590-VHVEG  Female              0     Yes         No       1           No   \n",
       "1  5575-GNVDE    Male              0      No         No      34          Yes   \n",
       "2  3668-QPYBK    Male              0      No         No       2          Yes   \n",
       "3  7795-CFOCW    Male              0      No         No      45           No   \n",
       "4  9237-HQITU  Female              0      No         No       2          Yes   \n",
       "\n",
       "      MultipleLines InternetService OnlineSecurity  ... DeviceProtection  \\\n",
       "0  No phone service             DSL             No  ...               No   \n",
       "1                No             DSL            Yes  ...              Yes   \n",
       "2                No             DSL            Yes  ...               No   \n",
       "3  No phone service             DSL            Yes  ...              Yes   \n",
       "4                No     Fiber optic             No  ...               No   \n",
       "\n",
       "  TechSupport StreamingTV StreamingMovies        Contract PaperlessBilling  \\\n",
       "0          No          No              No  Month-to-month              Yes   \n",
       "1          No          No              No        One year               No   \n",
       "2          No          No              No  Month-to-month              Yes   \n",
       "3         Yes          No              No        One year               No   \n",
       "4          No          No              No  Month-to-month              Yes   \n",
       "\n",
       "               PaymentMethod MonthlyCharges  TotalCharges Churn  \n",
       "0           Electronic check          29.85         29.85    No  \n",
       "1               Mailed check          56.95        1889.5    No  \n",
       "2               Mailed check          53.85        108.15   Yes  \n",
       "3  Bank transfer (automatic)          42.30       1840.75    No  \n",
       "4           Electronic check          70.70        151.65   Yes  \n",
       "\n",
       "[5 rows x 21 columns]"
      ]
     },
     "execution_count": 18,
     "metadata": {},
     "output_type": "execute_result"
    }
   ],
   "source": [
    "df.head()"
   ]
  },
  {
   "cell_type": "markdown",
   "id": "b178da3c",
   "metadata": {},
   "source": [
    "# Let's begin our analysis:- \n",
    "This is going to be a detailed description on HOW\n",
    "- You encode all categorical columns --> Best for your model\n",
    "- You Select best features --> feature selection\n",
    "- You extract best feature --> feature extraction\n",
    "- You tune them best by using optuna"
   ]
  },
  {
   "cell_type": "markdown",
   "id": "2c63d838",
   "metadata": {},
   "source": [
    "### First drop non-usefull columns for which we don't need to apply any feature selection techinique\n"
   ]
  },
  {
   "cell_type": "code",
   "execution_count": 49,
   "id": "d035bca2",
   "metadata": {},
   "outputs": [],
   "source": [
    "df.drop(columns='customerID',inplace=True)"
   ]
  },
  {
   "cell_type": "code",
   "execution_count": 20,
   "id": "036902a6",
   "metadata": {},
   "outputs": [
    {
     "name": "stdout",
     "output_type": "stream",
     "text": [
      "<class 'pandas.core.frame.DataFrame'>\n",
      "RangeIndex: 7043 entries, 0 to 7042\n",
      "Data columns (total 20 columns):\n",
      " #   Column            Non-Null Count  Dtype  \n",
      "---  ------            --------------  -----  \n",
      " 0   gender            7043 non-null   object \n",
      " 1   SeniorCitizen     7043 non-null   int64  \n",
      " 2   Partner           7043 non-null   object \n",
      " 3   Dependents        7043 non-null   object \n",
      " 4   tenure            7043 non-null   int64  \n",
      " 5   PhoneService      7043 non-null   object \n",
      " 6   MultipleLines     7043 non-null   object \n",
      " 7   InternetService   7043 non-null   object \n",
      " 8   OnlineSecurity    7043 non-null   object \n",
      " 9   OnlineBackup      7043 non-null   object \n",
      " 10  DeviceProtection  7043 non-null   object \n",
      " 11  TechSupport       7043 non-null   object \n",
      " 12  StreamingTV       7043 non-null   object \n",
      " 13  StreamingMovies   7043 non-null   object \n",
      " 14  Contract          7043 non-null   object \n",
      " 15  PaperlessBilling  7043 non-null   object \n",
      " 16  PaymentMethod     7043 non-null   object \n",
      " 17  MonthlyCharges    7043 non-null   float64\n",
      " 18  TotalCharges      7043 non-null   object \n",
      " 19  Churn             7043 non-null   object \n",
      "dtypes: float64(1), int64(2), object(17)\n",
      "memory usage: 1.1+ MB\n"
     ]
    }
   ],
   "source": [
    "df.info()"
   ]
  },
  {
   "cell_type": "markdown",
   "id": "4baca95f",
   "metadata": {},
   "source": [
    "#### Target feature have missing values & *Mostly columns are categorical*\n",
    "#### Now, we are going to do feature engineering --> feature SELECTION\n",
    "\n",
    "#### ***Because mostly columns are categorical let's apply chi-square test***"
   ]
  },
  {
   "cell_type": "code",
   "execution_count": 21,
   "id": "ad9e1a12",
   "metadata": {},
   "outputs": [],
   "source": [
    "# First select categorical columns as this TEST can only apply on categorical columns\n",
    "cat_df = df.select_dtypes(include=['category','object'])"
   ]
  },
  {
   "cell_type": "code",
   "execution_count": 22,
   "id": "6748b00f",
   "metadata": {},
   "outputs": [
    {
     "data": {
      "text/html": [
       "<div>\n",
       "<style scoped>\n",
       "    .dataframe tbody tr th:only-of-type {\n",
       "        vertical-align: middle;\n",
       "    }\n",
       "\n",
       "    .dataframe tbody tr th {\n",
       "        vertical-align: top;\n",
       "    }\n",
       "\n",
       "    .dataframe thead th {\n",
       "        text-align: right;\n",
       "    }\n",
       "</style>\n",
       "<table border=\"1\" class=\"dataframe\">\n",
       "  <thead>\n",
       "    <tr style=\"text-align: right;\">\n",
       "      <th></th>\n",
       "      <th>gender</th>\n",
       "      <th>Partner</th>\n",
       "      <th>Dependents</th>\n",
       "      <th>PhoneService</th>\n",
       "      <th>MultipleLines</th>\n",
       "      <th>InternetService</th>\n",
       "      <th>OnlineSecurity</th>\n",
       "      <th>OnlineBackup</th>\n",
       "      <th>DeviceProtection</th>\n",
       "      <th>TechSupport</th>\n",
       "      <th>StreamingTV</th>\n",
       "      <th>StreamingMovies</th>\n",
       "      <th>Contract</th>\n",
       "      <th>PaperlessBilling</th>\n",
       "      <th>PaymentMethod</th>\n",
       "      <th>TotalCharges</th>\n",
       "      <th>Churn</th>\n",
       "    </tr>\n",
       "  </thead>\n",
       "  <tbody>\n",
       "    <tr>\n",
       "      <th>0</th>\n",
       "      <td>Female</td>\n",
       "      <td>Yes</td>\n",
       "      <td>No</td>\n",
       "      <td>No</td>\n",
       "      <td>No phone service</td>\n",
       "      <td>DSL</td>\n",
       "      <td>No</td>\n",
       "      <td>Yes</td>\n",
       "      <td>No</td>\n",
       "      <td>No</td>\n",
       "      <td>No</td>\n",
       "      <td>No</td>\n",
       "      <td>Month-to-month</td>\n",
       "      <td>Yes</td>\n",
       "      <td>Electronic check</td>\n",
       "      <td>29.85</td>\n",
       "      <td>No</td>\n",
       "    </tr>\n",
       "    <tr>\n",
       "      <th>1</th>\n",
       "      <td>Male</td>\n",
       "      <td>No</td>\n",
       "      <td>No</td>\n",
       "      <td>Yes</td>\n",
       "      <td>No</td>\n",
       "      <td>DSL</td>\n",
       "      <td>Yes</td>\n",
       "      <td>No</td>\n",
       "      <td>Yes</td>\n",
       "      <td>No</td>\n",
       "      <td>No</td>\n",
       "      <td>No</td>\n",
       "      <td>One year</td>\n",
       "      <td>No</td>\n",
       "      <td>Mailed check</td>\n",
       "      <td>1889.5</td>\n",
       "      <td>No</td>\n",
       "    </tr>\n",
       "    <tr>\n",
       "      <th>2</th>\n",
       "      <td>Male</td>\n",
       "      <td>No</td>\n",
       "      <td>No</td>\n",
       "      <td>Yes</td>\n",
       "      <td>No</td>\n",
       "      <td>DSL</td>\n",
       "      <td>Yes</td>\n",
       "      <td>Yes</td>\n",
       "      <td>No</td>\n",
       "      <td>No</td>\n",
       "      <td>No</td>\n",
       "      <td>No</td>\n",
       "      <td>Month-to-month</td>\n",
       "      <td>Yes</td>\n",
       "      <td>Mailed check</td>\n",
       "      <td>108.15</td>\n",
       "      <td>Yes</td>\n",
       "    </tr>\n",
       "    <tr>\n",
       "      <th>3</th>\n",
       "      <td>Male</td>\n",
       "      <td>No</td>\n",
       "      <td>No</td>\n",
       "      <td>No</td>\n",
       "      <td>No phone service</td>\n",
       "      <td>DSL</td>\n",
       "      <td>Yes</td>\n",
       "      <td>No</td>\n",
       "      <td>Yes</td>\n",
       "      <td>Yes</td>\n",
       "      <td>No</td>\n",
       "      <td>No</td>\n",
       "      <td>One year</td>\n",
       "      <td>No</td>\n",
       "      <td>Bank transfer (automatic)</td>\n",
       "      <td>1840.75</td>\n",
       "      <td>No</td>\n",
       "    </tr>\n",
       "    <tr>\n",
       "      <th>4</th>\n",
       "      <td>Female</td>\n",
       "      <td>No</td>\n",
       "      <td>No</td>\n",
       "      <td>Yes</td>\n",
       "      <td>No</td>\n",
       "      <td>Fiber optic</td>\n",
       "      <td>No</td>\n",
       "      <td>No</td>\n",
       "      <td>No</td>\n",
       "      <td>No</td>\n",
       "      <td>No</td>\n",
       "      <td>No</td>\n",
       "      <td>Month-to-month</td>\n",
       "      <td>Yes</td>\n",
       "      <td>Electronic check</td>\n",
       "      <td>151.65</td>\n",
       "      <td>Yes</td>\n",
       "    </tr>\n",
       "    <tr>\n",
       "      <th>...</th>\n",
       "      <td>...</td>\n",
       "      <td>...</td>\n",
       "      <td>...</td>\n",
       "      <td>...</td>\n",
       "      <td>...</td>\n",
       "      <td>...</td>\n",
       "      <td>...</td>\n",
       "      <td>...</td>\n",
       "      <td>...</td>\n",
       "      <td>...</td>\n",
       "      <td>...</td>\n",
       "      <td>...</td>\n",
       "      <td>...</td>\n",
       "      <td>...</td>\n",
       "      <td>...</td>\n",
       "      <td>...</td>\n",
       "      <td>...</td>\n",
       "    </tr>\n",
       "    <tr>\n",
       "      <th>7038</th>\n",
       "      <td>Male</td>\n",
       "      <td>Yes</td>\n",
       "      <td>Yes</td>\n",
       "      <td>Yes</td>\n",
       "      <td>Yes</td>\n",
       "      <td>DSL</td>\n",
       "      <td>Yes</td>\n",
       "      <td>No</td>\n",
       "      <td>Yes</td>\n",
       "      <td>Yes</td>\n",
       "      <td>Yes</td>\n",
       "      <td>Yes</td>\n",
       "      <td>One year</td>\n",
       "      <td>Yes</td>\n",
       "      <td>Mailed check</td>\n",
       "      <td>1990.5</td>\n",
       "      <td>No</td>\n",
       "    </tr>\n",
       "    <tr>\n",
       "      <th>7039</th>\n",
       "      <td>Female</td>\n",
       "      <td>Yes</td>\n",
       "      <td>Yes</td>\n",
       "      <td>Yes</td>\n",
       "      <td>Yes</td>\n",
       "      <td>Fiber optic</td>\n",
       "      <td>No</td>\n",
       "      <td>Yes</td>\n",
       "      <td>Yes</td>\n",
       "      <td>No</td>\n",
       "      <td>Yes</td>\n",
       "      <td>Yes</td>\n",
       "      <td>One year</td>\n",
       "      <td>Yes</td>\n",
       "      <td>Credit card (automatic)</td>\n",
       "      <td>7362.9</td>\n",
       "      <td>No</td>\n",
       "    </tr>\n",
       "    <tr>\n",
       "      <th>7040</th>\n",
       "      <td>Female</td>\n",
       "      <td>Yes</td>\n",
       "      <td>Yes</td>\n",
       "      <td>No</td>\n",
       "      <td>No phone service</td>\n",
       "      <td>DSL</td>\n",
       "      <td>Yes</td>\n",
       "      <td>No</td>\n",
       "      <td>No</td>\n",
       "      <td>No</td>\n",
       "      <td>No</td>\n",
       "      <td>No</td>\n",
       "      <td>Month-to-month</td>\n",
       "      <td>Yes</td>\n",
       "      <td>Electronic check</td>\n",
       "      <td>346.45</td>\n",
       "      <td>No</td>\n",
       "    </tr>\n",
       "    <tr>\n",
       "      <th>7041</th>\n",
       "      <td>Male</td>\n",
       "      <td>Yes</td>\n",
       "      <td>No</td>\n",
       "      <td>Yes</td>\n",
       "      <td>Yes</td>\n",
       "      <td>Fiber optic</td>\n",
       "      <td>No</td>\n",
       "      <td>No</td>\n",
       "      <td>No</td>\n",
       "      <td>No</td>\n",
       "      <td>No</td>\n",
       "      <td>No</td>\n",
       "      <td>Month-to-month</td>\n",
       "      <td>Yes</td>\n",
       "      <td>Mailed check</td>\n",
       "      <td>306.6</td>\n",
       "      <td>Yes</td>\n",
       "    </tr>\n",
       "    <tr>\n",
       "      <th>7042</th>\n",
       "      <td>Male</td>\n",
       "      <td>No</td>\n",
       "      <td>No</td>\n",
       "      <td>Yes</td>\n",
       "      <td>No</td>\n",
       "      <td>Fiber optic</td>\n",
       "      <td>Yes</td>\n",
       "      <td>No</td>\n",
       "      <td>Yes</td>\n",
       "      <td>Yes</td>\n",
       "      <td>Yes</td>\n",
       "      <td>Yes</td>\n",
       "      <td>Two year</td>\n",
       "      <td>Yes</td>\n",
       "      <td>Bank transfer (automatic)</td>\n",
       "      <td>6844.5</td>\n",
       "      <td>No</td>\n",
       "    </tr>\n",
       "  </tbody>\n",
       "</table>\n",
       "<p>7043 rows × 17 columns</p>\n",
       "</div>"
      ],
      "text/plain": [
       "      gender Partner Dependents PhoneService     MultipleLines  \\\n",
       "0     Female     Yes         No           No  No phone service   \n",
       "1       Male      No         No          Yes                No   \n",
       "2       Male      No         No          Yes                No   \n",
       "3       Male      No         No           No  No phone service   \n",
       "4     Female      No         No          Yes                No   \n",
       "...      ...     ...        ...          ...               ...   \n",
       "7038    Male     Yes        Yes          Yes               Yes   \n",
       "7039  Female     Yes        Yes          Yes               Yes   \n",
       "7040  Female     Yes        Yes           No  No phone service   \n",
       "7041    Male     Yes         No          Yes               Yes   \n",
       "7042    Male      No         No          Yes                No   \n",
       "\n",
       "     InternetService OnlineSecurity OnlineBackup DeviceProtection TechSupport  \\\n",
       "0                DSL             No          Yes               No          No   \n",
       "1                DSL            Yes           No              Yes          No   \n",
       "2                DSL            Yes          Yes               No          No   \n",
       "3                DSL            Yes           No              Yes         Yes   \n",
       "4        Fiber optic             No           No               No          No   \n",
       "...              ...            ...          ...              ...         ...   \n",
       "7038             DSL            Yes           No              Yes         Yes   \n",
       "7039     Fiber optic             No          Yes              Yes          No   \n",
       "7040             DSL            Yes           No               No          No   \n",
       "7041     Fiber optic             No           No               No          No   \n",
       "7042     Fiber optic            Yes           No              Yes         Yes   \n",
       "\n",
       "     StreamingTV StreamingMovies        Contract PaperlessBilling  \\\n",
       "0             No              No  Month-to-month              Yes   \n",
       "1             No              No        One year               No   \n",
       "2             No              No  Month-to-month              Yes   \n",
       "3             No              No        One year               No   \n",
       "4             No              No  Month-to-month              Yes   \n",
       "...          ...             ...             ...              ...   \n",
       "7038         Yes             Yes        One year              Yes   \n",
       "7039         Yes             Yes        One year              Yes   \n",
       "7040          No              No  Month-to-month              Yes   \n",
       "7041          No              No  Month-to-month              Yes   \n",
       "7042         Yes             Yes        Two year              Yes   \n",
       "\n",
       "                  PaymentMethod TotalCharges Churn  \n",
       "0              Electronic check        29.85    No  \n",
       "1                  Mailed check       1889.5    No  \n",
       "2                  Mailed check       108.15   Yes  \n",
       "3     Bank transfer (automatic)      1840.75    No  \n",
       "4              Electronic check       151.65   Yes  \n",
       "...                         ...          ...   ...  \n",
       "7038               Mailed check       1990.5    No  \n",
       "7039    Credit card (automatic)       7362.9    No  \n",
       "7040           Electronic check       346.45    No  \n",
       "7041               Mailed check        306.6   Yes  \n",
       "7042  Bank transfer (automatic)       6844.5    No  \n",
       "\n",
       "[7043 rows x 17 columns]"
      ]
     },
     "execution_count": 22,
     "metadata": {},
     "output_type": "execute_result"
    }
   ],
   "source": [
    "cat_df"
   ]
  },
  {
   "cell_type": "code",
   "execution_count": 29,
   "id": "22ce4ef2",
   "metadata": {},
   "outputs": [],
   "source": [
    "# Drop TotalCharges column as it's dtype is float but it is saved as object\n",
    "cat_df.drop(columns='TotalCharges',inplace=True)"
   ]
  },
  {
   "cell_type": "code",
   "execution_count": 30,
   "id": "707ec26b",
   "metadata": {},
   "outputs": [
    {
     "data": {
      "text/html": [
       "<div>\n",
       "<style scoped>\n",
       "    .dataframe tbody tr th:only-of-type {\n",
       "        vertical-align: middle;\n",
       "    }\n",
       "\n",
       "    .dataframe tbody tr th {\n",
       "        vertical-align: top;\n",
       "    }\n",
       "\n",
       "    .dataframe thead th {\n",
       "        text-align: right;\n",
       "    }\n",
       "</style>\n",
       "<table border=\"1\" class=\"dataframe\">\n",
       "  <thead>\n",
       "    <tr style=\"text-align: right;\">\n",
       "      <th>Contract</th>\n",
       "      <th>Month-to-month</th>\n",
       "      <th>One year</th>\n",
       "      <th>Two year</th>\n",
       "      <th>All</th>\n",
       "    </tr>\n",
       "    <tr>\n",
       "      <th>Churn</th>\n",
       "      <th></th>\n",
       "      <th></th>\n",
       "      <th></th>\n",
       "      <th></th>\n",
       "    </tr>\n",
       "  </thead>\n",
       "  <tbody>\n",
       "    <tr>\n",
       "      <th>No</th>\n",
       "      <td>2220</td>\n",
       "      <td>1307</td>\n",
       "      <td>1647</td>\n",
       "      <td>5174</td>\n",
       "    </tr>\n",
       "    <tr>\n",
       "      <th>Yes</th>\n",
       "      <td>1655</td>\n",
       "      <td>166</td>\n",
       "      <td>48</td>\n",
       "      <td>1869</td>\n",
       "    </tr>\n",
       "    <tr>\n",
       "      <th>All</th>\n",
       "      <td>3875</td>\n",
       "      <td>1473</td>\n",
       "      <td>1695</td>\n",
       "      <td>7043</td>\n",
       "    </tr>\n",
       "  </tbody>\n",
       "</table>\n",
       "</div>"
      ],
      "text/plain": [
       "Contract  Month-to-month  One year  Two year   All\n",
       "Churn                                             \n",
       "No                  2220      1307      1647  5174\n",
       "Yes                 1655       166        48  1869\n",
       "All                 3875      1473      1695  7043"
      ]
     },
     "execution_count": 30,
     "metadata": {},
     "output_type": "execute_result"
    }
   ],
   "source": [
    "ct = pd.crosstab(cat_df['Churn'],cat_df['Contract'],margins=True)\n",
    "ct"
   ]
  },
  {
   "cell_type": "code",
   "execution_count": 31,
   "id": "7ad504ee",
   "metadata": {},
   "outputs": [],
   "source": [
    "from scipy.stats import chi2_contingency\n",
    "chi2_contingency(ct)\n",
    "\n",
    "score = []\n",
    "\n",
    "for feature in cat_df.columns[:-1]:\n",
    "\n",
    "    # create contingency table\n",
    "    ct = pd.crosstab(cat_df['Churn'], cat_df[feature])\n",
    "\n",
    "    # chi_test\n",
    "    p_value = chi2_contingency(ct)[1]\n",
    "    score.append(p_value)"
   ]
  },
  {
   "cell_type": "code",
   "execution_count": 32,
   "id": "6f3c242c",
   "metadata": {},
   "outputs": [
    {
     "data": {
      "text/plain": [
       "<Axes: >"
      ]
     },
     "execution_count": 32,
     "metadata": {},
     "output_type": "execute_result"
    },
    {
     "data": {
      "image/png": "[encoded data removed]",
      "text/plain": [
       "<Figure size 640x480 with 1 Axes>"
      ]
     },
     "metadata": {},
     "output_type": "display_data"
    }
   ],
   "source": [
    "pd.Series(score, index=cat_df.columns[:-1]).sort_values(ascending=True).plot(kind='bar')"
   ]
  },
  {
   "cell_type": "markdown",
   "id": "abfc4368",
   "metadata": {},
   "source": [
    " **As pre graph drop last two columns -->'-'<-- they are not usefull much**"
   ]
  },
  {
   "cell_type": "code",
   "execution_count": 50,
   "id": "90236512",
   "metadata": {},
   "outputs": [],
   "source": [
    "df.drop(columns=['PhoneService','gender'],inplace=True)"
   ]
  },
  {
   "cell_type": "markdown",
   "id": "ee881cfb",
   "metadata": {},
   "source": [
    " Now one more crucial step as we have many categorical columns check is there any duplicated or not\n"
   ]
  },
  {
   "cell_type": "code",
   "execution_count": 36,
   "id": "6e36cd63",
   "metadata": {},
   "outputs": [],
   "source": [
    "def get_duplicate_columns(df):\n",
    "    \n",
    "    duplicate_columns = {}\n",
    "    seen_columns = {}\n",
    "\n",
    "    for column in df.columns:\n",
    "        current_column = df[column]\n",
    "\n",
    "        # Convert column data to bytes\n",
    "        try:\n",
    "            current_column_hash = current_column.values.tobytes()\n",
    "        except AttributeError:\n",
    "            current_column_hash = current_column.to_string().encode()\n",
    "\n",
    "        if current_column_hash in seen_columns:\n",
    "            if seen_columns[current_column_hash] in duplicate_columns:\n",
    "                duplicate_columns[seen_columns[current_column_hash]].append(column)\n",
    "            else:\n",
    "                duplicate_columns[seen_columns[current_column_hash]] = [column]\n",
    "        else:\n",
    "            seen_columns[current_column_hash] = column\n",
    "\n",
    "    return duplicate_columns\n"
   ]
  },
  {
   "cell_type": "code",
   "execution_count": 40,
   "id": "468843a4",
   "metadata": {},
   "outputs": [],
   "source": [
    "# this generalised function will help you to get duplicate columns if there is any\n",
    "duplicate_columns = get_duplicate_columns(df)"
   ]
  },
  {
   "cell_type": "code",
   "execution_count": 41,
   "id": "e2bb1672",
   "metadata": {},
   "outputs": [
    {
     "data": {
      "text/plain": [
       "{}"
      ]
     },
     "execution_count": 41,
     "metadata": {},
     "output_type": "execute_result"
    }
   ],
   "source": [
    "duplicate_columns\n"
   ]
  },
  {
   "cell_type": "markdown",
   "id": "79369bd7",
   "metadata": {},
   "source": [
    "## No duplicate columns we are good to go ^-^\n",
    "\n",
    "*Let's encode categorical columns*"
   ]
  },
  {
   "cell_type": "code",
   "execution_count": 52,
   "id": "bb8a1c80",
   "metadata": {},
   "outputs": [],
   "source": [
    "# first encode our target column Yes-->1 & No-->0\n",
    "df['Churn'] = df['Churn'].map({'Yes':1,'No':0})"
   ]
  },
  {
   "cell_type": "markdown",
   "id": "394f6483",
   "metadata": {},
   "source": [
    "## I have a plan for this\n",
    " - First we encode the feature then we check it's corelation with target column \n",
    " - if the corelation is b/w 0<-->1 means column has a relation with target column ***LINEARLY***\n",
    " - if the corelation is b/w -1<-->0 means column does not have a relation with target column ***LINEARLY***"
   ]
  },
  {
   "cell_type": "code",
   "execution_count": 51,
   "id": "2b8e302d",
   "metadata": {},
   "outputs": [
    {
     "data": {
      "text/plain": [
       "Index(['SeniorCitizen', 'Partner', 'Dependents', 'tenure', 'MultipleLines',\n",
       "       'InternetService', 'OnlineSecurity', 'OnlineBackup', 'DeviceProtection',\n",
       "       'TechSupport', 'StreamingTV', 'StreamingMovies', 'Contract',\n",
       "       'PaperlessBilling', 'PaymentMethod', 'MonthlyCharges', 'TotalCharges',\n",
       "       'Churn'],\n",
       "      dtype='object')"
      ]
     },
     "execution_count": 51,
     "metadata": {},
     "output_type": "execute_result"
    }
   ],
   "source": [
    "# This process can be hectic because we our  going to do this manually and not using label encoder as we want to get the best result \n",
    "df.columns"
   ]
  },
  {
   "cell_type": "code",
   "execution_count": 45,
   "id": "5c2b2a3a",
   "metadata": {},
   "outputs": [
    {
     "data": {
      "text/plain": [
       "Partner\n",
       "No     3641\n",
       "Yes    3402\n",
       "Name: count, dtype: int64"
      ]
     },
     "execution_count": 45,
     "metadata": {},
     "output_type": "execute_result"
    }
   ],
   "source": [
    "df['Partner'].value_counts()"
   ]
  },
  {
   "cell_type": "code",
   "execution_count": null,
   "id": "44bd765e",
   "metadata": {},
   "outputs": [
    {
     "data": {
      "text/html": [
       "<div>\n",
       "<style scoped>\n",
       "    .dataframe tbody tr th:only-of-type {\n",
       "        vertical-align: middle;\n",
       "    }\n",
       "\n",
       "    .dataframe tbody tr th {\n",
       "        vertical-align: top;\n",
       "    }\n",
       "\n",
       "    .dataframe thead th {\n",
       "        text-align: right;\n",
       "    }\n",
       "</style>\n",
       "<table border=\"1\" class=\"dataframe\">\n",
       "  <thead>\n",
       "    <tr style=\"text-align: right;\">\n",
       "      <th></th>\n",
       "      <th>Partner</th>\n",
       "      <th>Churn</th>\n",
       "    </tr>\n",
       "  </thead>\n",
       "  <tbody>\n",
       "    <tr>\n",
       "      <th>Partner</th>\n",
       "      <td>1.000000</td>\n",
       "      <td>0.150448</td>\n",
       "    </tr>\n",
       "    <tr>\n",
       "      <th>Churn</th>\n",
       "      <td>0.150448</td>\n",
       "      <td>1.000000</td>\n",
       "    </tr>\n",
       "  </tbody>\n",
       "</table>\n",
       "</div>"
      ],
      "text/plain": [
       "          Partner     Churn\n",
       "Partner  1.000000  0.150448\n",
       "Churn    0.150448  1.000000"
      ]
     },
     "execution_count": 53,
     "metadata": {},
     "output_type": "execute_result"
    }
   ],
   "source": [
    "df['Partner'] = df['Partner'].map({'Yes':0,'No':1})\n",
    "# Yes-->1 & No-->0 give not good result\n",
    "df[['Partner','Churn']].corr()"
   ]
  },
  {
   "cell_type": "code",
   "execution_count": 54,
   "id": "9c59c69d",
   "metadata": {},
   "outputs": [],
   "source": [
    "df['OnlineSecurity'] = df['OnlineSecurity'].map({'Yes':1,'No':2,'No internet service':0})\n"
   ]
  },
  {
   "cell_type": "code",
   "execution_count": 55,
   "id": "8f200de4",
   "metadata": {},
   "outputs": [],
   "source": [
    "df['OnlineBackup'] = df['OnlineBackup'].map({'Yes':1,'No':2,'No internet service':0})\n"
   ]
  },
  {
   "cell_type": "code",
   "execution_count": 56,
   "id": "66beff4e",
   "metadata": {},
   "outputs": [],
   "source": [
    "df['DeviceProtection'] =df['DeviceProtection'].map({'Yes':1,'No':2,'No internet service':0})\n"
   ]
  },
  {
   "cell_type": "code",
   "execution_count": 57,
   "metadata": {},
   "outputs": [],
   "source": [
    "df['TechSupport'] = df['TechSupport'].map({'Yes':1,'No':2,'No internet service':0})\n"
   ]
  },
  {
   "cell_type": "code",
   "execution_count": 58,
   "id": "b665b8d8",
   "metadata": {},
   "outputs": [],
   "source": [
    "df['StreamingTV'] = df['StreamingTV'].map({'Yes':1,'No':2,'No internet service':0})\n"
   ]
  },
  {
   "cell_type": "code",
   "execution_count": 59,
   "id": "246063d5",
   "metadata": {},
   "outputs": [],
   "source": [
    "df['StreamingMovies'] = df['StreamingMovies'].map({'Yes':1,'No':2,'No internet service':0})\n"
   ]
  },
  {
   "cell_type": "code",
   "execution_count": 60,
   "id": "5b2fe9cd",
   "metadata": {},
   "outputs": [],
   "source": [
    "df['Contract'] = df['Contract'].map({'Month-to-month':2,'Two year':0,'One year':1})\n"
   ]
  },
  {
   "cell_type": "code",
   "execution_count": 61,
   "id": "4cc15394",
   "metadata": {},
   "outputs": [],
   "source": [
    "\n",
    "df['Dependents'] = df['Dependents'].map({'Yes':0,'No':1})\n"
   ]
  },
  {
   "cell_type": "code",
   "execution_count": 63,
   "id": "ce08366b",
   "metadata": {},
   "outputs": [],
   "source": [
    "df['PaperlessBilling']= df['PaperlessBilling'].map({'Yes':1,'No':0})\n"
   ]
  },
  {
   "cell_type": "code",
   "execution_count": 64,
   "id": "1b132c19",
   "metadata": {},
   "outputs": [],
   "source": [
    "df['PaymentMethod']= df['PaymentMethod'].map({'Electronic check':3,'Mailed check':1,'Bank transfer (automatic)':2,'Credit card (automatic)':0})\n"
   ]
  },
  {
   "cell_type": "code",
   "execution_count": 66,
   "id": "0cf91cf9",
   "metadata": {},
   "outputs": [],
   "source": [
    "df['MultipleLines'] = df['MultipleLines'].map({'Yes':2,'No':0,'No phone service':1})"
   ]
  },
  {
   "cell_type": "code",
   "execution_count": 69,
   "id": "4da069fd",
   "metadata": {},
   "outputs": [],
   "source": [
    "df['InternetService'] = df['InternetService'].map({'DSL':1,'Fiber optic':2,'No':0})"
   ]
  },
  {
   "cell_type": "code",
   "execution_count": 73,
   "id": "96eb277e",
   "metadata": {},
   "outputs": [
    {
     "name": "stdout",
     "output_type": "stream",
     "text": [
      "<class 'pandas.core.frame.DataFrame'>\n",
      "RangeIndex: 7043 entries, 0 to 7042\n",
      "Data columns (total 18 columns):\n",
      " #   Column            Non-Null Count  Dtype  \n",
      "---  ------            --------------  -----  \n",
      " 0   SeniorCitizen     7043 non-null   int64  \n",
      " 1   Partner           7043 non-null   int64  \n",
      " 2   Dependents        7043 non-null   int64  \n",
      " 3   tenure            7043 non-null   int64  \n",
      " 4   MultipleLines     7043 non-null   int64  \n",
      " 5   InternetService   7043 non-null   int64  \n",
      " 6   OnlineSecurity    7043 non-null   int64  \n",
      " 7   OnlineBackup      7043 non-null   int64  \n",
      " 8   DeviceProtection  7043 non-null   int64  \n",
      " 9   TechSupport       7043 non-null   int64  \n",
      " 10  StreamingTV       7043 non-null   int64  \n",
      " 11  StreamingMovies   7043 non-null   int64  \n",
      " 12  Contract          7043 non-null   int64  \n",
      " 13  PaperlessBilling  7043 non-null   int64  \n",
      " 14  PaymentMethod     7043 non-null   int64  \n",
      " 15  MonthlyCharges    7043 non-null   float64\n",
      " 16  TotalCharges      7043 non-null   object \n",
      " 17  Churn             7043 non-null   int64  \n",
      "dtypes: float64(1), int64(16), object(1)\n",
      "memory usage: 990.6+ KB\n"
     ]
    }
   ],
   "source": [
    "df.info()"
   ]
  },
  {
   "cell_type": "code",
   "execution_count": 74,
   "id": "764d4c51",
   "metadata": {},
   "outputs": [],
   "source": [
    "# Now change TotalCharges from object --> float\n",
    "df['TotalCharges'] = pd.to_numeric(df['TotalCharges'],errors='coerce')"
   ]
  },
  {
   "cell_type": "code",
   "execution_count": 77,
   "id": "b624eb17",
   "metadata": {},
   "outputs": [
    {
     "data": {
      "text/plain": [
       "np.int64(11)"
      ]
     },
     "execution_count": 77,
     "metadata": {},
     "output_type": "execute_result"
    }
   ],
   "source": [
    "df['TotalCharges'].isnull().sum()"
   ]
  },
  {
   "cell_type": "code",
   "execution_count": 79,
   "id": "ee97218d",
   "metadata": {},
   "outputs": [],
   "source": [
    "# lets use mean to fill these values\n",
    "df['TotalCharges'] = df['TotalCharges'].fillna(df['TotalCharges'].mean())"
   ]
  },
  {
   "cell_type": "code",
   "execution_count": 80,
   "id": "ebab8c6e",
   "metadata": {},
   "outputs": [
    {
     "data": {
      "text/plain": [
       "SeniorCitizen       0\n",
       "Partner             0\n",
       "Dependents          0\n",
       "tenure              0\n",
       "MultipleLines       0\n",
       "InternetService     0\n",
       "OnlineSecurity      0\n",
       "OnlineBackup        0\n",
       "DeviceProtection    0\n",
       "TechSupport         0\n",
       "StreamingTV         0\n",
       "StreamingMovies     0\n",
       "Contract            0\n",
       "PaperlessBilling    0\n",
       "PaymentMethod       0\n",
       "MonthlyCharges      0\n",
       "TotalCharges        0\n",
       "Churn               0\n",
       "dtype: int64"
      ]
     },
     "execution_count": 80,
     "metadata": {},
     "output_type": "execute_result"
    }
   ],
   "source": [
    "df.isnull().sum()"
   ]
  },
  {
   "cell_type": "code",
   "execution_count": 81,
   "id": "aba9babd",
   "metadata": {},
   "outputs": [
    {
     "data": {
      "text/html": [
       "<div>\n",
       "<style scoped>\n",
       "    .dataframe tbody tr th:only-of-type {\n",
       "        vertical-align: middle;\n",
       "    }\n",
       "\n",
       "    .dataframe tbody tr th {\n",
       "        vertical-align: top;\n",
       "    }\n",
       "\n",
       "    .dataframe thead th {\n",
       "        text-align: right;\n",
       "    }\n",
       "</style>\n",
       "<table border=\"1\" class=\"dataframe\">\n",
       "  <thead>\n",
       "    <tr style=\"text-align: right;\">\n",
       "      <th></th>\n",
       "      <th>SeniorCitizen</th>\n",
       "      <th>Partner</th>\n",
       "      <th>Dependents</th>\n",
       "      <th>tenure</th>\n",
       "      <th>MultipleLines</th>\n",
       "      <th>InternetService</th>\n",
       "      <th>OnlineSecurity</th>\n",
       "      <th>OnlineBackup</th>\n",
       "      <th>DeviceProtection</th>\n",
       "      <th>TechSupport</th>\n",
       "      <th>StreamingTV</th>\n",
       "      <th>StreamingMovies</th>\n",
       "      <th>Contract</th>\n",
       "      <th>PaperlessBilling</th>\n",
       "      <th>PaymentMethod</th>\n",
       "      <th>MonthlyCharges</th>\n",
       "      <th>TotalCharges</th>\n",
       "      <th>Churn</th>\n",
       "    </tr>\n",
       "  </thead>\n",
       "  <tbody>\n",
       "    <tr>\n",
       "      <th>SeniorCitizen</th>\n",
       "      <td>1.000000</td>\n",
       "      <td>-0.016479</td>\n",
       "      <td>0.211185</td>\n",
       "      <td>0.016567</td>\n",
       "      <td>0.146185</td>\n",
       "      <td>0.259390</td>\n",
       "      <td>0.210897</td>\n",
       "      <td>0.152780</td>\n",
       "      <td>0.157095</td>\n",
       "      <td>0.223770</td>\n",
       "      <td>0.130130</td>\n",
       "      <td>0.120802</td>\n",
       "      <td>0.142554</td>\n",
       "      <td>0.156530</td>\n",
       "      <td>0.143821</td>\n",
       "      <td>0.220173</td>\n",
       "      <td>0.102395</td>\n",
       "      <td>0.150889</td>\n",
       "    </tr>\n",
       "    <tr>\n",
       "      <th>Partner</th>\n",
       "      <td>-0.016479</td>\n",
       "      <td>1.000000</td>\n",
       "      <td>0.452676</td>\n",
       "      <td>-0.379697</td>\n",
       "      <td>-0.142410</td>\n",
       "      <td>0.000132</td>\n",
       "      <td>0.081850</td>\n",
       "      <td>0.087055</td>\n",
       "      <td>0.094451</td>\n",
       "      <td>0.069072</td>\n",
       "      <td>0.080127</td>\n",
       "      <td>0.075779</td>\n",
       "      <td>0.294806</td>\n",
       "      <td>0.014877</td>\n",
       "      <td>0.058384</td>\n",
       "      <td>-0.096848</td>\n",
       "      <td>-0.318812</td>\n",
       "      <td>0.150448</td>\n",
       "    </tr>\n",
       "    <tr>\n",
       "      <th>Dependents</th>\n",
       "      <td>0.211185</td>\n",
       "      <td>0.452676</td>\n",
       "      <td>1.000000</td>\n",
       "      <td>-0.159712</td>\n",
       "      <td>0.024991</td>\n",
       "      <td>0.179631</td>\n",
       "      <td>0.190523</td>\n",
       "      <td>0.162445</td>\n",
       "      <td>0.156439</td>\n",
       "      <td>0.180832</td>\n",
       "      <td>0.140395</td>\n",
       "      <td>0.125820</td>\n",
       "      <td>0.243187</td>\n",
       "      <td>0.111377</td>\n",
       "      <td>0.126546</td>\n",
       "      <td>0.113890</td>\n",
       "      <td>-0.064535</td>\n",
       "      <td>0.164221</td>\n",
       "    </tr>\n",
       "    <tr>\n",
       "      <th>tenure</th>\n",
       "      <td>0.016567</td>\n",
       "      <td>-0.379697</td>\n",
       "      <td>-0.159712</td>\n",
       "      <td>1.000000</td>\n",
       "      <td>0.343032</td>\n",
       "      <td>0.033230</td>\n",
       "      <td>-0.145298</td>\n",
       "      <td>-0.178651</td>\n",
       "      <td>-0.178649</td>\n",
       "      <td>-0.144459</td>\n",
       "      <td>-0.136145</td>\n",
       "      <td>-0.140781</td>\n",
       "      <td>-0.671607</td>\n",
       "      <td>0.006152</td>\n",
       "      <td>-0.166875</td>\n",
       "      <td>0.247900</td>\n",
       "      <td>0.824757</td>\n",
       "      <td>-0.352229</td>\n",
       "    </tr>\n",
       "    <tr>\n",
       "      <th>MultipleLines</th>\n",
       "      <td>0.146185</td>\n",
       "      <td>-0.142410</td>\n",
       "      <td>0.024991</td>\n",
       "      <td>0.343032</td>\n",
       "      <td>1.000000</td>\n",
       "      <td>0.329715</td>\n",
       "      <td>0.207839</td>\n",
       "      <td>0.150371</td>\n",
       "      <td>0.147500</td>\n",
       "      <td>0.205748</td>\n",
       "      <td>0.119534</td>\n",
       "      <td>0.116330</td>\n",
       "      <td>-0.110842</td>\n",
       "      <td>0.165146</td>\n",
       "      <td>0.074918</td>\n",
       "      <td>0.433576</td>\n",
       "      <td>0.452883</td>\n",
       "      <td>0.038037</td>\n",
       "    </tr>\n",
       "    <tr>\n",
       "      <th>InternetService</th>\n",
       "      <td>0.259390</td>\n",
       "      <td>0.000132</td>\n",
       "      <td>0.179631</td>\n",
       "      <td>0.033230</td>\n",
       "      <td>0.329715</td>\n",
       "      <td>1.000000</td>\n",
       "      <td>0.764943</td>\n",
       "      <td>0.686403</td>\n",
       "      <td>0.682448</td>\n",
       "      <td>0.760985</td>\n",
       "      <td>0.617704</td>\n",
       "      <td>0.620005</td>\n",
       "      <td>0.290189</td>\n",
       "      <td>0.378108</td>\n",
       "      <td>0.306616</td>\n",
       "      <td>0.905491</td>\n",
       "      <td>0.427749</td>\n",
       "      <td>0.316846</td>\n",
       "    </tr>\n",
       "    <tr>\n",
       "      <th>OnlineSecurity</th>\n",
       "      <td>0.210897</td>\n",
       "      <td>0.081850</td>\n",
       "      <td>0.190523</td>\n",
       "      <td>-0.145298</td>\n",
       "      <td>0.207839</td>\n",
       "      <td>0.764943</td>\n",
       "      <td>1.000000</td>\n",
       "      <td>0.751661</td>\n",
       "      <td>0.749040</td>\n",
       "      <td>0.791225</td>\n",
       "      <td>0.701976</td>\n",
       "      <td>0.704984</td>\n",
       "      <td>0.389978</td>\n",
       "      <td>0.334003</td>\n",
       "      <td>0.299496</td>\n",
       "      <td>0.621227</td>\n",
       "      <td>0.153051</td>\n",
       "      <td>0.332819</td>\n",
       "    </tr>\n",
       "    <tr>\n",
       "      <th>OnlineBackup</th>\n",
       "      <td>0.152780</td>\n",
       "      <td>0.087055</td>\n",
       "      <td>0.162445</td>\n",
       "      <td>-0.178651</td>\n",
       "      <td>0.150371</td>\n",
       "      <td>0.686403</td>\n",
       "      <td>0.751661</td>\n",
       "      <td>1.000000</td>\n",
       "      <td>0.740604</td>\n",
       "      <td>0.754095</td>\n",
       "      <td>0.720671</td>\n",
       "      <td>0.716700</td>\n",
       "      <td>0.351267</td>\n",
       "      <td>0.262402</td>\n",
       "      <td>0.249755</td>\n",
       "      <td>0.538454</td>\n",
       "      <td>0.084920</td>\n",
       "      <td>0.291449</td>\n",
       "    </tr>\n",
       "    <tr>\n",
       "      <th>DeviceProtection</th>\n",
       "      <td>0.157095</td>\n",
       "      <td>0.094451</td>\n",
       "      <td>0.156439</td>\n",
       "      <td>-0.178649</td>\n",
       "      <td>0.147500</td>\n",
       "      <td>0.682448</td>\n",
       "      <td>0.749040</td>\n",
       "      <td>0.740604</td>\n",
       "      <td>1.000000</td>\n",
       "      <td>0.767970</td>\n",
       "      <td>0.763279</td>\n",
       "      <td>0.766821</td>\n",
       "      <td>0.390216</td>\n",
       "      <td>0.276326</td>\n",
       "      <td>0.256501</td>\n",
       "      <td>0.513440</td>\n",
       "      <td>0.077305</td>\n",
       "      <td>0.281465</td>\n",
       "    </tr>\n",
       "    <tr>\n",
       "      <th>TechSupport</th>\n",
       "      <td>0.223770</td>\n",
       "      <td>0.069072</td>\n",
       "      <td>0.180832</td>\n",
       "      <td>-0.144459</td>\n",
       "      <td>0.205748</td>\n",
       "      <td>0.760985</td>\n",
       "      <td>0.791225</td>\n",
       "      <td>0.754095</td>\n",
       "      <td>0.767970</td>\n",
       "      <td>1.000000</td>\n",
       "      <td>0.737578</td>\n",
       "      <td>0.737123</td>\n",
       "      <td>0.418440</td>\n",
       "      <td>0.310749</td>\n",
       "      <td>0.300312</td>\n",
       "      <td>0.597594</td>\n",
       "      <td>0.140843</td>\n",
       "      <td>0.329852</td>\n",
       "    </tr>\n",
       "    <tr>\n",
       "      <th>StreamingTV</th>\n",
       "      <td>0.130130</td>\n",
       "      <td>0.080127</td>\n",
       "      <td>0.140395</td>\n",
       "      <td>-0.136145</td>\n",
       "      <td>0.119534</td>\n",
       "      <td>0.617704</td>\n",
       "      <td>0.701976</td>\n",
       "      <td>0.720671</td>\n",
       "      <td>0.763279</td>\n",
       "      <td>0.737578</td>\n",
       "      <td>1.000000</td>\n",
       "      <td>0.809608</td>\n",
       "      <td>0.327951</td>\n",
       "      <td>0.203907</td>\n",
       "      <td>0.176723</td>\n",
       "      <td>0.423067</td>\n",
       "      <td>0.075612</td>\n",
       "      <td>0.205742</td>\n",
       "    </tr>\n",
       "    <tr>\n",
       "      <th>StreamingMovies</th>\n",
       "      <td>0.120802</td>\n",
       "      <td>0.075779</td>\n",
       "      <td>0.125820</td>\n",
       "      <td>-0.140781</td>\n",
       "      <td>0.116330</td>\n",
       "      <td>0.620005</td>\n",
       "      <td>0.704984</td>\n",
       "      <td>0.716700</td>\n",
       "      <td>0.766821</td>\n",
       "      <td>0.737123</td>\n",
       "      <td>0.809608</td>\n",
       "      <td>1.000000</td>\n",
       "      <td>0.330993</td>\n",
       "      <td>0.211818</td>\n",
       "      <td>0.181746</td>\n",
       "      <td>0.424598</td>\n",
       "      <td>0.072473</td>\n",
       "      <td>0.207256</td>\n",
       "    </tr>\n",
       "    <tr>\n",
       "      <th>Contract</th>\n",
       "      <td>0.142554</td>\n",
       "      <td>0.294806</td>\n",
       "      <td>0.243187</td>\n",
       "      <td>-0.671607</td>\n",
       "      <td>-0.110842</td>\n",
       "      <td>0.290189</td>\n",
       "      <td>0.389978</td>\n",
       "      <td>0.351267</td>\n",
       "      <td>0.390216</td>\n",
       "      <td>0.418440</td>\n",
       "      <td>0.327951</td>\n",
       "      <td>0.330993</td>\n",
       "      <td>1.000000</td>\n",
       "      <td>0.176733</td>\n",
       "      <td>0.289606</td>\n",
       "      <td>0.074195</td>\n",
       "      <td>-0.449511</td>\n",
       "      <td>0.396713</td>\n",
       "    </tr>\n",
       "    <tr>\n",
       "      <th>PaperlessBilling</th>\n",
       "      <td>0.156530</td>\n",
       "      <td>0.014877</td>\n",
       "      <td>0.111377</td>\n",
       "      <td>0.006152</td>\n",
       "      <td>0.165146</td>\n",
       "      <td>0.378108</td>\n",
       "      <td>0.334003</td>\n",
       "      <td>0.262402</td>\n",
       "      <td>0.276326</td>\n",
       "      <td>0.310749</td>\n",
       "      <td>0.203907</td>\n",
       "      <td>0.211818</td>\n",
       "      <td>0.176733</td>\n",
       "      <td>1.000000</td>\n",
       "      <td>0.170486</td>\n",
       "      <td>0.352150</td>\n",
       "      <td>0.157676</td>\n",
       "      <td>0.191825</td>\n",
       "    </tr>\n",
       "    <tr>\n",
       "      <th>PaymentMethod</th>\n",
       "      <td>0.143821</td>\n",
       "      <td>0.058384</td>\n",
       "      <td>0.126546</td>\n",
       "      <td>-0.166875</td>\n",
       "      <td>0.074918</td>\n",
       "      <td>0.306616</td>\n",
       "      <td>0.299496</td>\n",
       "      <td>0.249755</td>\n",
       "      <td>0.256501</td>\n",
       "      <td>0.300312</td>\n",
       "      <td>0.176723</td>\n",
       "      <td>0.181746</td>\n",
       "      <td>0.289606</td>\n",
       "      <td>0.170486</td>\n",
       "      <td>1.000000</td>\n",
       "      <td>0.227497</td>\n",
       "      <td>-0.048038</td>\n",
       "      <td>0.253541</td>\n",
       "    </tr>\n",
       "    <tr>\n",
       "      <th>MonthlyCharges</th>\n",
       "      <td>0.220173</td>\n",
       "      <td>-0.096848</td>\n",
       "      <td>0.113890</td>\n",
       "      <td>0.247900</td>\n",
       "      <td>0.433576</td>\n",
       "      <td>0.905491</td>\n",
       "      <td>0.621227</td>\n",
       "      <td>0.538454</td>\n",
       "      <td>0.513440</td>\n",
       "      <td>0.597594</td>\n",
       "      <td>0.423067</td>\n",
       "      <td>0.424598</td>\n",
       "      <td>0.074195</td>\n",
       "      <td>0.352150</td>\n",
       "      <td>0.227497</td>\n",
       "      <td>1.000000</td>\n",
       "      <td>0.650468</td>\n",
       "      <td>0.193356</td>\n",
       "    </tr>\n",
       "    <tr>\n",
       "      <th>TotalCharges</th>\n",
       "      <td>0.102395</td>\n",
       "      <td>-0.318812</td>\n",
       "      <td>-0.064535</td>\n",
       "      <td>0.824757</td>\n",
       "      <td>0.452883</td>\n",
       "      <td>0.427749</td>\n",
       "      <td>0.153051</td>\n",
       "      <td>0.084920</td>\n",
       "      <td>0.077305</td>\n",
       "      <td>0.140843</td>\n",
       "      <td>0.075612</td>\n",
       "      <td>0.072473</td>\n",
       "      <td>-0.449511</td>\n",
       "      <td>0.157676</td>\n",
       "      <td>-0.048038</td>\n",
       "      <td>0.650468</td>\n",
       "      <td>1.000000</td>\n",
       "      <td>-0.199428</td>\n",
       "    </tr>\n",
       "    <tr>\n",
       "      <th>Churn</th>\n",
       "      <td>0.150889</td>\n",
       "      <td>0.150448</td>\n",
       "      <td>0.164221</td>\n",
       "      <td>-0.352229</td>\n",
       "      <td>0.038037</td>\n",
       "      <td>0.316846</td>\n",
       "      <td>0.332819</td>\n",
       "      <td>0.291449</td>\n",
       "      <td>0.281465</td>\n",
       "      <td>0.329852</td>\n",
       "      <td>0.205742</td>\n",
       "      <td>0.207256</td>\n",
       "      <td>0.396713</td>\n",
       "      <td>0.191825</td>\n",
       "      <td>0.253541</td>\n",
       "      <td>0.193356</td>\n",
       "      <td>-0.199428</td>\n",
       "      <td>1.000000</td>\n",
       "    </tr>\n",
       "  </tbody>\n",
       "</table>\n",
       "</div>"
      ],
      "text/plain": [
       "                  SeniorCitizen   Partner  Dependents    tenure  \\\n",
       "SeniorCitizen          1.000000 -0.016479    0.211185  0.016567   \n",
       "Partner               -0.016479  1.000000    0.452676 -0.379697   \n",
       "Dependents             0.211185  0.452676    1.000000 -0.159712   \n",
       "tenure                 0.016567 -0.379697   -0.159712  1.000000   \n",
       "MultipleLines          0.146185 -0.142410    0.024991  0.343032   \n",
       "InternetService        0.259390  0.000132    0.179631  0.033230   \n",
       "OnlineSecurity         0.210897  0.081850    0.190523 -0.145298   \n",
       "OnlineBackup           0.152780  0.087055    0.162445 -0.178651   \n",
       "DeviceProtection       0.157095  0.094451    0.156439 -0.178649   \n",
       "TechSupport            0.223770  0.069072    0.180832 -0.144459   \n",
       "StreamingTV            0.130130  0.080127    0.140395 -0.136145   \n",
       "StreamingMovies        0.120802  0.075779    0.125820 -0.140781   \n",
       "Contract               0.142554  0.294806    0.243187 -0.671607   \n",
       "PaperlessBilling       0.156530  0.014877    0.111377  0.006152   \n",
       "PaymentMethod          0.143821  0.058384    0.126546 -0.166875   \n",
       "MonthlyCharges         0.220173 -0.096848    0.113890  0.247900   \n",
       "TotalCharges           0.102395 -0.318812   -0.064535  0.824757   \n",
       "Churn                  0.150889  0.150448    0.164221 -0.352229   \n",
       "\n",
       "                  MultipleLines  InternetService  OnlineSecurity  \\\n",
       "SeniorCitizen          0.146185         0.259390        0.210897   \n",
       "Partner               -0.142410         0.000132        0.081850   \n",
       "Dependents             0.024991         0.179631        0.190523   \n",
       "tenure                 0.343032         0.033230       -0.145298   \n",
       "MultipleLines          1.000000         0.329715        0.207839   \n",
       "InternetService        0.329715         1.000000        0.764943   \n",
       "OnlineSecurity         0.207839         0.764943        1.000000   \n",
       "OnlineBackup           0.150371         0.686403        0.751661   \n",
       "DeviceProtection       0.147500         0.682448        0.749040   \n",
       "TechSupport            0.205748         0.760985        0.791225   \n",
       "StreamingTV            0.119534         0.617704        0.701976   \n",
       "StreamingMovies        0.116330         0.620005        0.704984   \n",
       "Contract              -0.110842         0.290189        0.389978   \n",
       "PaperlessBilling       0.165146         0.378108        0.334003   \n",
       "PaymentMethod          0.074918         0.306616        0.299496   \n",
       "MonthlyCharges         0.433576         0.905491        0.621227   \n",
       "TotalCharges           0.452883         0.427749        0.153051   \n",
       "Churn                  0.038037         0.316846        0.332819   \n",
       "\n",
       "                  OnlineBackup  DeviceProtection  TechSupport  StreamingTV  \\\n",
       "SeniorCitizen         0.152780          0.157095     0.223770     0.130130   \n",
       "Partner               0.087055          0.094451     0.069072     0.080127   \n",
       "Dependents            0.162445          0.156439     0.180832     0.140395   \n",
       "tenure               -0.178651         -0.178649    -0.144459    -0.136145   \n",
       "MultipleLines         0.150371          0.147500     0.205748     0.119534   \n",
       "InternetService       0.686403          0.682448     0.760985     0.617704   \n",
       "OnlineSecurity        0.751661          0.749040     0.791225     0.701976   \n",
       "OnlineBackup          1.000000          0.740604     0.754095     0.720671   \n",
       "DeviceProtection      0.740604          1.000000     0.767970     0.763279   \n",
       "TechSupport           0.754095          0.767970     1.000000     0.737578   \n",
       "StreamingTV           0.720671          0.763279     0.737578     1.000000   \n",
       "StreamingMovies       0.716700          0.766821     0.737123     0.809608   \n",
       "Contract              0.351267          0.390216     0.418440     0.327951   \n",
       "PaperlessBilling      0.262402          0.276326     0.310749     0.203907   \n",
       "PaymentMethod         0.249755          0.256501     0.300312     0.176723   \n",
       "MonthlyCharges        0.538454          0.513440     0.597594     0.423067   \n",
       "TotalCharges          0.084920          0.077305     0.140843     0.075612   \n",
       "Churn                 0.291449          0.281465     0.329852     0.205742   \n",
       "\n",
       "                  StreamingMovies  Contract  PaperlessBilling  PaymentMethod  \\\n",
       "SeniorCitizen            0.120802  0.142554          0.156530       0.143821   \n",
       "Partner                  0.075779  0.294806          0.014877       0.058384   \n",
       "Dependents               0.125820  0.243187          0.111377       0.126546   \n",
       "tenure                  -0.140781 -0.671607          0.006152      -0.166875   \n",
       "MultipleLines            0.116330 -0.110842          0.165146       0.074918   \n",
       "InternetService          0.620005  0.290189          0.378108       0.306616   \n",
       "OnlineSecurity           0.704984  0.389978          0.334003       0.299496   \n",
       "OnlineBackup             0.716700  0.351267          0.262402       0.249755   \n",
       "DeviceProtection         0.766821  0.390216          0.276326       0.256501   \n",
       "TechSupport              0.737123  0.418440          0.310749       0.300312   \n",
       "StreamingTV              0.809608  0.327951          0.203907       0.176723   \n",
       "StreamingMovies          1.000000  0.330993          0.211818       0.181746   \n",
       "Contract                 0.330993  1.000000          0.176733       0.289606   \n",
       "PaperlessBilling         0.211818  0.176733          1.000000       0.170486   \n",
       "PaymentMethod            0.181746  0.289606          0.170486       1.000000   \n",
       "MonthlyCharges           0.424598  0.074195          0.352150       0.227497   \n",
       "TotalCharges             0.072473 -0.449511          0.157676      -0.048038   \n",
       "Churn                    0.207256  0.396713          0.191825       0.253541   \n",
       "\n",
       "                  MonthlyCharges  TotalCharges     Churn  \n",
       "SeniorCitizen           0.220173      0.102395  0.150889  \n",
       "Partner                -0.096848     -0.318812  0.150448  \n",
       "Dependents              0.113890     -0.064535  0.164221  \n",
       "tenure                  0.247900      0.824757 -0.352229  \n",
       "MultipleLines           0.433576      0.452883  0.038037  \n",
       "InternetService         0.905491      0.427749  0.316846  \n",
       "OnlineSecurity          0.621227      0.153051  0.332819  \n",
       "OnlineBackup            0.538454      0.084920  0.291449  \n",
       "DeviceProtection        0.513440      0.077305  0.281465  \n",
       "TechSupport             0.597594      0.140843  0.329852  \n",
       "StreamingTV             0.423067      0.075612  0.205742  \n",
       "StreamingMovies         0.424598      0.072473  0.207256  \n",
       "Contract                0.074195     -0.449511  0.396713  \n",
       "PaperlessBilling        0.352150      0.157676  0.191825  \n",
       "PaymentMethod           0.227497     -0.048038  0.253541  \n",
       "MonthlyCharges          1.000000      0.650468  0.193356  \n",
       "TotalCharges            0.650468      1.000000 -0.199428  \n",
       "Churn                   0.193356     -0.199428  1.000000  "
      ]
     },
     "execution_count": 81,
     "metadata": {},
     "output_type": "execute_result"
    }
   ],
   "source": [
    "df.corr()"
   ]
  },
  {
   "cell_type": "markdown",
   "id": "79e0f9bd",
   "metadata": {},
   "source": [
    "# Now all values are corelated with the target values but before training models \n",
    "## as per the corelation matrix we can also see clearly input column are not only related to target column but also with each other\n",
    "\n",
    "#### *MEANS MULTICOLINEARITY* to check this we need to calcuate VIF Variance inflation factor"
   ]
  },
  {
   "cell_type": "markdown",
   "id": "cd3c8527",
   "metadata": {},
   "source": [
    "#### - value<5 no multicolinearity\n",
    "#### - value>5 less multicolinearity\n",
    "#### - value>10 high multicolinearity"
   ]
  },
  {
   "cell_type": "code",
   "execution_count": 82,
   "id": "1b47dfe3",
   "metadata": {},
   "outputs": [
    {
     "name": "stdout",
     "output_type": "stream",
     "text": [
      "             Feature        VIF\n",
      "0      SeniorCitizen   1.153066\n",
      "1            Partner   1.461564\n",
      "2         Dependents   1.383956\n",
      "3             tenure   6.963388\n",
      "4      MultipleLines   1.359253\n",
      "5    InternetService  13.780519\n",
      "6     OnlineSecurity   3.906788\n",
      "7       OnlineBackup   3.272421\n",
      "8   DeviceProtection   3.712643\n",
      "9        TechSupport   4.309053\n",
      "10       StreamingTV   3.838695\n",
      "11   StreamingMovies   3.846579\n",
      "12          Contract   2.470516\n",
      "13  PaperlessBilling   1.207295\n",
      "14     PaymentMethod   1.206804\n",
      "15    MonthlyCharges  14.111907\n",
      "16      TotalCharges  10.098295\n",
      "17             Churn   1.386534\n"
     ]
    }
   ],
   "source": [
    "from statsmodels.stats.outliers_influence import variance_inflation_factor\n",
    "from statsmodels.tools.tools import add_constant\n",
    "import pandas as pd\n",
    "\n",
    "# Select only numerical independent features\n",
    "X = df  # replace with your features\n",
    "\n",
    "# Add constant for intercept\n",
    "X_const = add_constant(X)\n",
    "\n",
    "# Compute VIF\n",
    "vif_data = pd.DataFrame()\n",
    "vif_data[\"Feature\"] = X.columns\n",
    "vif_data[\"VIF\"] = [variance_inflation_factor(X_const.values, i+1) for i in range(len(X.columns))]\n",
    "print(vif_data)\n"
   ]
  },
  {
   "cell_type": "markdown",
   "id": "c3b661fe",
   "metadata": {},
   "source": [
    "#### Let's drop MonthlyCharges and Internet service --> it is also possible that dropping this much columns can decrease your score as this is always hit and trial method"
   ]
  },
  {
   "cell_type": "code",
   "execution_count": 84,
   "id": "e4ca0cfb",
   "metadata": {},
   "outputs": [],
   "source": [
    "df1 = df.drop(columns=['MonthlyCharges','InternetService'])"
   ]
  },
  {
   "cell_type": "markdown",
   "id": "e1f6075d",
   "metadata": {},
   "source": [
    "#### main df is safe we are going to use df1 so we can use df if results are not in favor\n"
   ]
  },
  {
   "cell_type": "code",
   "execution_count": 85,
   "id": "e49ccf27",
   "metadata": {},
   "outputs": [],
   "source": [
    "# Let's split our data\n",
    "from sklearn.model_selection import train_test_split,cross_val_score\n",
    "X_train,X_test,y_train,y_test = train_test_split(df1.drop(columns='Churn'),df1['Churn'],test_size=0.2,random_state=42)\n"
   ]
  },
  {
   "cell_type": "code",
   "execution_count": 125,
   "id": "bf8f9e56",
   "metadata": {},
   "outputs": [
    {
     "data": {
      "text/plain": [
       "array([4138, 1496])"
      ]
     },
     "execution_count": 125,
     "metadata": {},
     "output_type": "execute_result"
    }
   ],
   "source": [
    "y_train.value_counts().values"
   ]
  },
  {
   "cell_type": "code",
   "execution_count": 129,
   "id": "6e6ecf95",
   "metadata": {},
   "outputs": [
    {
     "data": {
      "text/plain": [
       "Text(0.5, 1.0, 'Distribution of Classes in y_train')"
      ]
     },
     "execution_count": 129,
     "metadata": {},
     "output_type": "execute_result"
    },
    {
     "data": {
      "image/png": "[encoded data removed]",
      "text/plain": [
       "<Figure size 640x480 with 1 Axes>"
      ]
     },
     "metadata": {},
     "output_type": "display_data"
    }
   ],
   "source": [
    "values = y_train.value_counts().values\n",
    "labels = y_train.value_counts().index\n",
    "\n",
    "plt.bar(labels, values, color=['skyblue', 'salmon'])  # Change/add colors as needed\n",
    "plt.xlabel('Class Labels')\n",
    "plt.ylabel('Counts')\n",
    "plt.title('Distribution of Classes in y_train')"
   ]
  },
  {
   "cell_type": "markdown",
   "id": "45c2b4d8",
   "metadata": {},
   "source": [
    "## imbalanced Dataset\n"
   ]
  },
  {
   "cell_type": "markdown",
   "id": "dad7b66b",
   "metadata": {},
   "source": [
    "### training models will LogisticRegression and RandomForest as they gives best results on this \n",
    "#### ***Because i already trained GradintBoosting,XGB,SVC on this also. ^-^***\n",
    "\n",
    "### We our going to use optuna for hyperparameter i already did this so i am not going to do this again\n",
    "### i am leaving the code for you so you can check how it proceds"
   ]
  },
  {
   "cell_type": "code",
   "execution_count": 88,
   "id": "4e4eb946",
   "metadata": {},
   "outputs": [],
   "source": [
    "# def objective(trial):\n",
    "#     solver = trial.suggest_categorical(\"solver\", [\"lbfgs\", \"saga\", \"liblinear\"])\n",
    "#     penalty = trial.suggest_categorical(\"penalty\", [\"l1\", \"l2\", \"elasticnet\",None])\n",
    "#     C = trial.suggest_float(\"C\", 1e-7, 10.0, log=True)\n",
    "#     # Validate solver-penalty compatibility\n",
    "#     if (solver == \"lbfgs\" and penalty not in [\"l2\",None]) or \\\n",
    "#        (solver == \"liblinear\" and penalty not in [\"l1\", \"l2\"]) or \\\n",
    "#        (solver == \"saga\" and penalty not in [\"l1\", \"l2\", \"elasticnet\",None]):\n",
    "#         raise optuna.exceptions.TrialPruned()\n",
    "\n",
    "#     l1_ratio = None\n",
    "#     if penalty == \"elasticnet\":\n",
    "#         l1_ratio = trial.suggest_float(\"l1_ratio\", 0.0, 1.0)\n",
    "\n",
    "#     clf = LogisticRegression(\n",
    "#         solver=solver,\n",
    "#         penalty=penalty,\n",
    "#         l1_ratio=l1_ratio,\n",
    "#         C=C,\n",
    "#         max_iter=trial.suggest_int(\"max_iter\", 1500,3500)\n",
    "#     )\n",
    "#     # train and evaluate model here ...\n",
    "\n",
    "#     # Fit and evaluate model as usual\n",
    "\n",
    "#     # Perform cross-validation and return the mean accuracy\n",
    "#     score = cross_val_score(clf, X_train, y_train, cv=3, scoring='accuracy').mean()\n",
    "#     return score"
   ]
  },
  {
   "cell_type": "code",
   "execution_count": 86,
   "id": "453914b9",
   "metadata": {},
   "outputs": [],
   "source": [
    "# Let's create study\n",
    "#study = optuna.create_study(direction='maximize')\n",
    "#study.optimize(objective,n_trials=50)"
   ]
  },
  {
   "cell_type": "markdown",
   "id": "b32d3a8e",
   "metadata": {},
   "source": [
    "#### you can also try by adding one more parameter class_weight to LogisticRegression study"
   ]
  },
  {
   "cell_type": "code",
   "execution_count": 87,
   "id": "a4cfb386",
   "metadata": {},
   "outputs": [],
   "source": [
    "\n",
    "#best_trial = study.best_trial\n",
    "#print(\"Best trial parameters:\", best_trial.params)\n",
    "#print(\"Best trial accuracy:\", best_trial.value)"
   ]
  },
  {
   "cell_type": "code",
   "execution_count": 89,
   "id": "76360afc",
   "metadata": {},
   "outputs": [
    {
     "name": "stdout",
     "output_type": "stream",
     "text": [
      "              precision    recall  f1-score   support\n",
      "\n",
      "           0       0.85      0.90      0.87      1036\n",
      "           1       0.67      0.56      0.61       373\n",
      "\n",
      "    accuracy                           0.81      1409\n",
      "   macro avg       0.76      0.73      0.74      1409\n",
      "weighted avg       0.80      0.81      0.80      1409\n",
      "\n"
     ]
    }
   ],
   "source": [
    "from sklearn.metrics import classification_report\n",
    "from sklearn.metrics import classification_report\n",
    "lr = LogisticRegression(solver='liblinear',C=0.20541894220762066,penalty='l1',max_iter=3454)\n",
    "lr.fit(X_train,y_train)\n",
    "y1_pred = lr.predict(X_test)\n",
    "print(classification_report(y_test,y1_pred))\n"
   ]
  },
  {
   "cell_type": "code",
   "execution_count": 90,
   "id": "e9ea14e2",
   "metadata": {},
   "outputs": [],
   "source": [
    "from sklearn.ensemble import GradientBoostingClassifier"
   ]
  },
  {
   "cell_type": "code",
   "execution_count": 98,
   "id": "83e84f20",
   "metadata": {},
   "outputs": [],
   "source": [
    "from sklearn.ensemble import RandomForestClassifier\n",
    "from sklearn.model_selection import cross_val_score\n",
    "import optuna\n",
    "\n",
    "def objective_rf(trial):\n",
    "    n_estimators = trial.suggest_int('n_estimators', 50, 300)\n",
    "    max_depth = trial.suggest_int('max_depth', 3, 20)\n",
    "    min_samples_split = trial.suggest_int('min_samples_split', 2, 10)\n",
    "    min_samples_leaf = trial.suggest_int('min_samples_leaf', 1, 10)\n",
    "    \n",
    "    # ✅ Updated max_features options — 'auto' removed\n",
    "    max_features = trial.suggest_categorical('max_features', ['sqrt', 'log2', None])\n",
    "    \n",
    "    model = RandomForestClassifier(\n",
    "        n_estimators=n_estimators,\n",
    "        max_depth=max_depth,\n",
    "        min_samples_split=min_samples_split,\n",
    "        min_samples_leaf=min_samples_leaf,\n",
    "        max_features=max_features,\n",
    "        class_weight='balanced',\n",
    "        random_state=42\n",
    "    )\n",
    "\n",
    "    score = cross_val_score(model, X_train, y_train, cv=3, scoring='accuracy').mean()\n",
    "    return score\n",
    "\n",
    "\n"
   ]
  },
  {
   "cell_type": "code",
   "execution_count": 99,
   "id": "49f82129",
   "metadata": {},
   "outputs": [
    {
     "name": "stderr",
     "output_type": "stream",
     "text": [
      "[I 2025-07-19 13:31:20,788] A new study created in memory with name: no-name-6af28a02-d9d8-4d65-a9bf-c50959dcafa7\n",
      "[I 2025-07-19 13:31:23,724] Trial 0 finished with value: 0.7273695420660277 and parameters: {'n_estimators': 195, 'max_depth': 4, 'min_samples_split': 5, 'min_samples_leaf': 3, 'max_features': 'log2'}. Best is trial 0 with value: 0.7273695420660277.\n",
      "[I 2025-07-19 13:31:32,529] Trial 1 finished with value: 0.7603833865814696 and parameters: {'n_estimators': 260, 'max_depth': 10, 'min_samples_split': 6, 'min_samples_leaf': 7, 'max_features': None}. Best is trial 1 with value: 0.7603833865814696.\n",
      "[I 2025-07-19 13:31:40,997] Trial 2 finished with value: 0.7586084487042953 and parameters: {'n_estimators': 258, 'max_depth': 19, 'min_samples_split': 8, 'min_samples_leaf': 10, 'max_features': None}. Best is trial 1 with value: 0.7603833865814696.\n",
      "[I 2025-07-19 13:31:44,751] Trial 3 finished with value: 0.7710330138445154 and parameters: {'n_estimators': 233, 'max_depth': 18, 'min_samples_split': 4, 'min_samples_leaf': 3, 'max_features': 'log2'}. Best is trial 3 with value: 0.7710330138445154.\n",
      "[I 2025-07-19 13:31:47,835] Trial 4 finished with value: 0.7577209797657082 and parameters: {'n_estimators': 213, 'max_depth': 14, 'min_samples_split': 8, 'min_samples_leaf': 9, 'max_features': 'log2'}. Best is trial 3 with value: 0.7710330138445154.\n",
      "[I 2025-07-19 13:31:50,800] Trial 5 finished with value: 0.7465388711395101 and parameters: {'n_estimators': 254, 'max_depth': 7, 'min_samples_split': 2, 'min_samples_leaf': 8, 'max_features': 'sqrt'}. Best is trial 3 with value: 0.7710330138445154.\n",
      "[I 2025-07-19 13:31:54,071] Trial 6 finished with value: 0.763400780972666 and parameters: {'n_estimators': 89, 'max_depth': 18, 'min_samples_split': 5, 'min_samples_leaf': 7, 'max_features': None}. Best is trial 3 with value: 0.7710330138445154.\n",
      "[I 2025-07-19 13:31:56,338] Trial 7 finished with value: 0.7729854455094071 and parameters: {'n_estimators': 62, 'max_depth': 11, 'min_samples_split': 9, 'min_samples_leaf': 1, 'max_features': None}. Best is trial 7 with value: 0.7729854455094071.\n",
      "[I 2025-07-19 13:31:57,963] Trial 8 finished with value: 0.7461838835640752 and parameters: {'n_estimators': 130, 'max_depth': 7, 'min_samples_split': 10, 'min_samples_leaf': 2, 'max_features': 'sqrt'}. Best is trial 7 with value: 0.7729854455094071.\n",
      "[I 2025-07-19 13:32:05,789] Trial 9 finished with value: 0.763400780972666 and parameters: {'n_estimators': 219, 'max_depth': 13, 'min_samples_split': 7, 'min_samples_leaf': 7, 'max_features': None}. Best is trial 7 with value: 0.7729854455094071.\n",
      "[I 2025-07-19 13:32:08,225] Trial 10 finished with value: 0.7644657436989705 and parameters: {'n_estimators': 68, 'max_depth': 9, 'min_samples_split': 10, 'min_samples_leaf': 1, 'max_features': None}. Best is trial 7 with value: 0.7729854455094071.\n",
      "[I 2025-07-19 13:32:09,927] Trial 11 finished with value: 0.7658856940007098 and parameters: {'n_estimators': 151, 'max_depth': 16, 'min_samples_split': 3, 'min_samples_leaf': 4, 'max_features': 'log2'}. Best is trial 7 with value: 0.7729854455094071.\n",
      "[I 2025-07-19 13:32:11,751] Trial 12 finished with value: 0.7632232871849486 and parameters: {'n_estimators': 111, 'max_depth': 15, 'min_samples_split': 4, 'min_samples_leaf': 4, 'max_features': 'log2'}. Best is trial 7 with value: 0.7729854455094071.\n",
      "[I 2025-07-19 13:32:16,628] Trial 13 finished with value: 0.776180333688321 and parameters: {'n_estimators': 291, 'max_depth': 20, 'min_samples_split': 8, 'min_samples_leaf': 1, 'max_features': 'log2'}. Best is trial 13 with value: 0.776180333688321.\n",
      "[I 2025-07-19 13:32:17,454] Trial 14 finished with value: 0.7673056443024494 and parameters: {'n_estimators': 52, 'max_depth': 11, 'min_samples_split': 9, 'min_samples_leaf': 1, 'max_features': 'sqrt'}. Best is trial 13 with value: 0.776180333688321.\n",
      "[I 2025-07-19 13:32:28,122] Trial 15 finished with value: 0.7713880014199503 and parameters: {'n_estimators': 295, 'max_depth': 20, 'min_samples_split': 8, 'min_samples_leaf': 5, 'max_features': None}. Best is trial 13 with value: 0.776180333688321.\n",
      "[I 2025-07-19 13:32:31,146] Trial 16 finished with value: 0.7728079517216898 and parameters: {'n_estimators': 181, 'max_depth': 13, 'min_samples_split': 9, 'min_samples_leaf': 1, 'max_features': 'log2'}. Best is trial 13 with value: 0.776180333688321.\n",
      "[I 2025-07-19 13:32:32,558] Trial 17 finished with value: 0.7307419240326588 and parameters: {'n_estimators': 152, 'max_depth': 3, 'min_samples_split': 7, 'min_samples_leaf': 2, 'max_features': 'log2'}. Best is trial 13 with value: 0.776180333688321.\n",
      "[I 2025-07-19 13:32:41,953] Trial 18 finished with value: 0.7623358182463614 and parameters: {'n_estimators': 295, 'max_depth': 8, 'min_samples_split': 9, 'min_samples_leaf': 5, 'max_features': None}. Best is trial 13 with value: 0.776180333688321.\n",
      "[I 2025-07-19 13:32:43,414] Trial 19 finished with value: 0.7720979765708199 and parameters: {'n_estimators': 96, 'max_depth': 16, 'min_samples_split': 7, 'min_samples_leaf': 2, 'max_features': 'sqrt'}. Best is trial 13 with value: 0.776180333688321.\n",
      "[I 2025-07-19 13:32:47,227] Trial 20 finished with value: 0.736599219027334 and parameters: {'n_estimators': 153, 'max_depth': 5, 'min_samples_split': 10, 'min_samples_leaf': 3, 'max_features': None}. Best is trial 13 with value: 0.776180333688321.\n",
      "[I 2025-07-19 13:32:49,885] Trial 21 finished with value: 0.7705005324813632 and parameters: {'n_estimators': 181, 'max_depth': 12, 'min_samples_split': 9, 'min_samples_leaf': 1, 'max_features': 'log2'}. Best is trial 13 with value: 0.776180333688321.\n",
      "[I 2025-07-19 13:32:51,513] Trial 22 finished with value: 0.7726304579339723 and parameters: {'n_estimators': 128, 'max_depth': 12, 'min_samples_split': 9, 'min_samples_leaf': 1, 'max_features': 'log2'}. Best is trial 13 with value: 0.776180333688321.\n",
      "[I 2025-07-19 13:32:54,412] Trial 23 finished with value: 0.7715654952076677 and parameters: {'n_estimators': 179, 'max_depth': 17, 'min_samples_split': 8, 'min_samples_leaf': 2, 'max_features': 'log2'}. Best is trial 13 with value: 0.776180333688321.\n",
      "[I 2025-07-19 13:32:55,416] Trial 24 finished with value: 0.7722754703585375 and parameters: {'n_estimators': 74, 'max_depth': 14, 'min_samples_split': 9, 'min_samples_leaf': 1, 'max_features': 'log2'}. Best is trial 13 with value: 0.776180333688321.\n",
      "[I 2025-07-19 13:32:58,970] Trial 25 finished with value: 0.7639332623358183 and parameters: {'n_estimators': 278, 'max_depth': 10, 'min_samples_split': 6, 'min_samples_leaf': 4, 'max_features': 'log2'}. Best is trial 13 with value: 0.776180333688321.\n",
      "[I 2025-07-19 13:33:01,612] Trial 26 finished with value: 0.7664181753638623 and parameters: {'n_estimators': 233, 'max_depth': 20, 'min_samples_split': 10, 'min_samples_leaf': 3, 'max_features': 'log2'}. Best is trial 13 with value: 0.776180333688321.\n",
      "[I 2025-07-19 13:33:04,770] Trial 27 finished with value: 0.7731629392971247 and parameters: {'n_estimators': 202, 'max_depth': 14, 'min_samples_split': 7, 'min_samples_leaf': 2, 'max_features': 'log2'}. Best is trial 13 with value: 0.776180333688321.\n",
      "[I 2025-07-19 13:33:07,853] Trial 28 finished with value: 0.763400780972666 and parameters: {'n_estimators': 215, 'max_depth': 15, 'min_samples_split': 7, 'min_samples_leaf': 6, 'max_features': 'sqrt'}. Best is trial 13 with value: 0.776180333688321.\n",
      "[I 2025-07-19 13:33:15,107] Trial 29 finished with value: 0.7763578274760383 and parameters: {'n_estimators': 200, 'max_depth': 11, 'min_samples_split': 5, 'min_samples_leaf': 2, 'max_features': None}. Best is trial 29 with value: 0.7763578274760383.\n",
      "[I 2025-07-19 13:33:19,169] Trial 30 finished with value: 0.769613063542776 and parameters: {'n_estimators': 201, 'max_depth': 17, 'min_samples_split': 6, 'min_samples_leaf': 3, 'max_features': 'log2'}. Best is trial 29 with value: 0.7763578274760383.\n",
      "[I 2025-07-19 13:33:25,862] Trial 31 finished with value: 0.7765353212637559 and parameters: {'n_estimators': 195, 'max_depth': 11, 'min_samples_split': 5, 'min_samples_leaf': 2, 'max_features': None}. Best is trial 31 with value: 0.7765353212637559.\n",
      "[I 2025-07-19 13:33:31,966] Trial 32 finished with value: 0.7712105076322328 and parameters: {'n_estimators': 196, 'max_depth': 9, 'min_samples_split': 5, 'min_samples_leaf': 2, 'max_features': None}. Best is trial 31 with value: 0.7765353212637559.\n",
      "[I 2025-07-19 13:33:40,307] Trial 33 finished with value: 0.773340433084842 and parameters: {'n_estimators': 247, 'max_depth': 10, 'min_samples_split': 5, 'min_samples_leaf': 2, 'max_features': None}. Best is trial 31 with value: 0.7765353212637559.\n",
      "[I 2025-07-19 13:33:48,570] Trial 34 finished with value: 0.7705005324813632 and parameters: {'n_estimators': 246, 'max_depth': 10, 'min_samples_split': 5, 'min_samples_leaf': 4, 'max_features': None}. Best is trial 31 with value: 0.7765353212637559.\n",
      "[I 2025-07-19 13:33:54,634] Trial 35 finished with value: 0.7355342563010293 and parameters: {'n_estimators': 276, 'max_depth': 5, 'min_samples_split': 4, 'min_samples_leaf': 3, 'max_features': None}. Best is trial 31 with value: 0.7765353212637559.\n",
      "[I 2025-07-19 13:34:01,984] Trial 36 finished with value: 0.7642882499112531 and parameters: {'n_estimators': 269, 'max_depth': 8, 'min_samples_split': 5, 'min_samples_leaf': 2, 'max_features': None}. Best is trial 31 with value: 0.7765353212637559.\n",
      "[I 2025-07-19 13:34:09,937] Trial 37 finished with value: 0.7724529641462549 and parameters: {'n_estimators': 238, 'max_depth': 10, 'min_samples_split': 4, 'min_samples_leaf': 3, 'max_features': None}. Best is trial 31 with value: 0.7765353212637559.\n",
      "[I 2025-07-19 13:34:18,233] Trial 38 finished with value: 0.7781327653532126 and parameters: {'n_estimators': 260, 'max_depth': 13, 'min_samples_split': 6, 'min_samples_leaf': 2, 'max_features': None}. Best is trial 38 with value: 0.7781327653532126.\n",
      "[I 2025-07-19 13:34:27,525] Trial 39 finished with value: 0.7710330138445155 and parameters: {'n_estimators': 268, 'max_depth': 13, 'min_samples_split': 6, 'min_samples_leaf': 5, 'max_features': None}. Best is trial 38 with value: 0.7781327653532126.\n",
      "[I 2025-07-19 13:34:34,835] Trial 40 finished with value: 0.7768903088391905 and parameters: {'n_estimators': 227, 'max_depth': 18, 'min_samples_split': 3, 'min_samples_leaf': 3, 'max_features': None}. Best is trial 38 with value: 0.7781327653532126.\n",
      "[I 2025-07-19 13:34:42,050] Trial 41 finished with value: 0.7751153709620163 and parameters: {'n_estimators': 222, 'max_depth': 19, 'min_samples_split': 2, 'min_samples_leaf': 3, 'max_features': None}. Best is trial 38 with value: 0.7781327653532126.\n",
      "[I 2025-07-19 13:34:52,046] Trial 42 finished with value: 0.7777777777777778 and parameters: {'n_estimators': 284, 'max_depth': 19, 'min_samples_split': 3, 'min_samples_leaf': 1, 'max_features': None}. Best is trial 38 with value: 0.7781327653532126.\n",
      "[I 2025-07-19 13:35:00,779] Trial 43 finished with value: 0.7809726659566915 and parameters: {'n_estimators': 229, 'max_depth': 18, 'min_samples_split': 3, 'min_samples_leaf': 2, 'max_features': None}. Best is trial 43 with value: 0.7809726659566915.\n",
      "[I 2025-07-19 13:35:08,544] Trial 44 finished with value: 0.7607383741569045 and parameters: {'n_estimators': 257, 'max_depth': 19, 'min_samples_split': 3, 'min_samples_leaf': 9, 'max_features': None}. Best is trial 43 with value: 0.7809726659566915.\n",
      "[I 2025-07-19 13:35:16,006] Trial 45 finished with value: 0.7735179268725595 and parameters: {'n_estimators': 227, 'max_depth': 18, 'min_samples_split': 3, 'min_samples_leaf': 4, 'max_features': None}. Best is trial 43 with value: 0.7809726659566915.\n",
      "[I 2025-07-19 13:35:26,217] Trial 46 finished with value: 0.7802626908058218 and parameters: {'n_estimators': 282, 'max_depth': 17, 'min_samples_split': 2, 'min_samples_leaf': 1, 'max_features': None}. Best is trial 43 with value: 0.7809726659566915.\n",
      "[I 2025-07-19 13:35:37,632] Trial 47 finished with value: 0.7788427405040824 and parameters: {'n_estimators': 280, 'max_depth': 18, 'min_samples_split': 2, 'min_samples_leaf': 1, 'max_features': None}. Best is trial 43 with value: 0.7809726659566915.\n",
      "[I 2025-07-19 13:35:48,890] Trial 48 finished with value: 0.7797302094426696 and parameters: {'n_estimators': 285, 'max_depth': 17, 'min_samples_split': 2, 'min_samples_leaf': 1, 'max_features': None}. Best is trial 43 with value: 0.7809726659566915.\n",
      "[I 2025-07-19 13:35:58,877] Trial 49 finished with value: 0.7809726659566915 and parameters: {'n_estimators': 267, 'max_depth': 17, 'min_samples_split': 2, 'min_samples_leaf': 1, 'max_features': None}. Best is trial 43 with value: 0.7809726659566915.\n"
     ]
    }
   ],
   "source": [
    "import optuna\n",
    "study1 = optuna.create_study(direction='maximize')\n",
    "study1.optimize(objective_rf,n_trials=50)"
   ]
  },
  {
   "cell_type": "code",
   "execution_count": 100,
   "id": "2bc64f31",
   "metadata": {},
   "outputs": [
    {
     "data": {
      "text/plain": [
       "0.7809726659566915"
      ]
     },
     "execution_count": 100,
     "metadata": {},
     "output_type": "execute_result"
    }
   ],
   "source": [
    "study1.best_trial.value"
   ]
  },
  {
   "cell_type": "code",
   "execution_count": 101,
   "id": "833b5d9f",
   "metadata": {},
   "outputs": [
    {
     "data": {
      "text/plain": [
       "{'n_estimators': 229,\n",
       " 'max_depth': 18,\n",
       " 'min_samples_split': 3,\n",
       " 'min_samples_leaf': 2,\n",
       " 'max_features': None}"
      ]
     },
     "execution_count": 101,
     "metadata": {},
     "output_type": "execute_result"
    }
   ],
   "source": [
    "study1.best_trial.params"
   ]
  },
  {
   "cell_type": "code",
   "execution_count": 102,
   "id": "2d5403a8",
   "metadata": {},
   "outputs": [
    {
     "name": "stdout",
     "output_type": "stream",
     "text": [
      "              precision    recall  f1-score   support\n",
      "\n",
      "           0       0.83      0.90      0.86      1036\n",
      "           1       0.64      0.49      0.55       373\n",
      "\n",
      "    accuracy                           0.79      1409\n",
      "   macro avg       0.74      0.69      0.71      1409\n",
      "weighted avg       0.78      0.79      0.78      1409\n",
      "\n"
     ]
    }
   ],
   "source": [
    "from sklearn.metrics import classification_report\n",
    "from sklearn.metrics import classification_report\n",
    "lr = RandomForestClassifier(n_estimators=229,max_depth=18,min_samples_split=3,max_features=None,min_samples_leaf=2)\n",
    "lr.fit(X_train,y_train)\n",
    "y1_pred = lr.predict(X_test)\n",
    "print(classification_report(y_test,y1_pred))\n"
   ]
  },
  {
   "cell_type": "markdown",
   "id": "db619a5b",
   "metadata": {},
   "source": [
    "#### Let's apply pca hope it give better resluts"
   ]
  },
  {
   "cell_type": "code",
   "execution_count": 103,
   "id": "0528ee18",
   "metadata": {},
   "outputs": [
    {
     "data": {
      "text/plain": [
       "(5634, 15)"
      ]
     },
     "execution_count": 103,
     "metadata": {},
     "output_type": "execute_result"
    }
   ],
   "source": [
    "X_train.shape"
   ]
  },
  {
   "cell_type": "code",
   "execution_count": 106,
   "id": "3682f53b",
   "metadata": {},
   "outputs": [
    {
     "name": "stdout",
     "output_type": "stream",
     "text": [
      "0.6458481192334989 i= 1\n",
      "0.7672107877927609 i= 2\n",
      "0.7856635911994322 i= 3\n",
      "0.7977288857345636 i= 4\n",
      "0.7863733144073811 i= 5\n",
      "0.7920511000709723 i= 6\n",
      "0.7934705464868701 i= 7\n",
      "0.7984386089425124 i= 8\n",
      "0.801277501774308 i= 9\n",
      "0.7991483321504613 i= 10\n",
      "0.8019872249822569 i= 11\n",
      "0.7970191625266146 i= 12\n",
      "0.7927608232789212 i= 13\n",
      "0.7934705464868701 i= 14\n",
      "0.7991483321504613 i= 15\n"
     ]
    }
   ],
   "source": [
    "from sklearn.metrics import accuracy_score\n",
    "from sklearn.decomposition import PCA\n",
    "for i in range(1,16):\n",
    "    pca = PCA(n_components=i)\n",
    "    X_train_trans = pca.fit_transform(X_train)\n",
    "    X_test_trans = pca.transform(X_test)\n",
    "    rf = RandomForestClassifier(n_estimators=229,max_depth=18,min_samples_split=3,max_features=None,min_samples_leaf=2,class_weight='balanced')\n",
    "    rf.fit(X_train_trans,y_train)\n",
    "    y1_pred = rf.predict(X_test_trans)\n",
    "    print(accuracy_score(y_test,y1_pred),'i=',i)\n",
    "    "
   ]
  },
  {
   "cell_type": "code",
   "execution_count": 108,
   "id": "0a9a11c7",
   "metadata": {},
   "outputs": [
    {
     "name": "stdout",
     "output_type": "stream",
     "text": [
      "              precision    recall  f1-score   support\n",
      "\n",
      "           0       0.85      0.89      0.86      1036\n",
      "           1       0.63      0.55      0.59       373\n",
      "\n",
      "    accuracy                           0.80      1409\n",
      "   macro avg       0.74      0.72      0.73      1409\n",
      "weighted avg       0.79      0.80      0.79      1409\n",
      "\n"
     ]
    }
   ],
   "source": [
    "pca1 = PCA(n_components=11)\n",
    "X_train_trans = pca1.fit_transform(X_train)\n",
    "X_test_trans = pca1.transform(X_test)\n",
    "rf = RandomForestClassifier(n_estimators=229,max_depth=18,min_samples_split=3,max_features=None,min_samples_leaf=2,class_weight='balanced')\n",
    "rf.fit(X_train_trans,y_train)\n",
    "y1_pred = rf.predict(X_test_trans)\n",
    "print(classification_report(y_test,y1_pred))\n",
    "\n"
   ]
  },
  {
   "cell_type": "markdown",
   "id": "27e3806b",
   "metadata": {},
   "source": [
    "#### Now at last votting classifier"
   ]
  },
  {
   "cell_type": "code",
   "execution_count": 110,
   "id": "b79223b1",
   "metadata": {},
   "outputs": [
    {
     "name": "stdout",
     "output_type": "stream",
     "text": [
      "Final Accuracy Score \n",
      "0.8126330731014905\n",
      "              precision    recall  f1-score   support\n",
      "\n",
      "           0       0.85      0.90      0.88      1036\n",
      "           1       0.67      0.58      0.62       373\n",
      "\n",
      "    accuracy                           0.81      1409\n",
      "   macro avg       0.76      0.74      0.75      1409\n",
      "weighted avg       0.81      0.81      0.81      1409\n",
      "\n"
     ]
    }
   ],
   "source": [
    "from sklearn.ensemble import AdaBoostClassifier\n",
    "from sklearn.ensemble import VotingClassifier\n",
    "clf1 = RandomForestClassifier(n_estimators=229,max_depth=18,min_samples_split=3,max_features=None,min_samples_leaf=2,class_weight='balanced')\n",
    "clf2 = LogisticRegression(solver='liblinear',C=0.20541894220762066,penalty='l1',max_iter=3454)\n",
    "clf3 = AdaBoostClassifier()\n",
    "eclf1 = VotingClassifier(estimators=[('gbc', clf1), ('lr', clf2), ('abc', clf3)], voting='soft')\n",
    "eclf1.fit(X_train, y_train)\n",
    "predictions = eclf1.predict(X_test)\n",
    "print(\"Final Accuracy Score \")\n",
    "print(accuracy_score(y_test, predictions))\n",
    "print(classification_report(y_test, predictions))"
   ]
  },
  {
   "cell_type": "code",
   "execution_count": 112,
   "id": "698b02ca",
   "metadata": {},
   "outputs": [
    {
     "name": "stdout",
     "output_type": "stream",
     "text": [
      "Final Accuracy Score \n",
      "0.7104329311568488 i= 1\n",
      "Final Accuracy Score \n",
      "0.7735982966643009 i= 2\n",
      "Final Accuracy Score \n",
      "0.7970191625266146 i= 3\n",
      "Final Accuracy Score \n",
      "0.7984386089425124 i= 4\n",
      "Final Accuracy Score \n",
      "0.8019872249822569 i= 5\n",
      "Final Accuracy Score \n",
      "0.8034066713981547 i= 6\n",
      "Final Accuracy Score \n",
      "0.8062455642299503 i= 7\n",
      "Final Accuracy Score \n",
      "0.8005677785663591 i= 8\n",
      "Final Accuracy Score \n",
      "0.8026969481902059 i= 9\n",
      "Final Accuracy Score \n",
      "0.801277501774308 i= 10\n",
      "Final Accuracy Score \n",
      "0.7984386089425124 i= 11\n",
      "Final Accuracy Score \n",
      "0.801277501774308 i= 12\n",
      "Final Accuracy Score \n",
      "0.8055358410220014 i= 13\n",
      "Final Accuracy Score \n",
      "0.8034066713981547 i= 14\n",
      "Final Accuracy Score \n",
      "0.8005677785663591 i= 15\n"
     ]
    }
   ],
   "source": [
    "# including PCA\n",
    "for i in range(1,16):\n",
    "        pca = PCA(n_components=i)\n",
    "        X_train_trans = pca.fit_transform(X_train)\n",
    "        X_test_trans = pca.transform(X_test)\n",
    "        from sklearn.ensemble import AdaBoostClassifier\n",
    "        from sklearn.ensemble import VotingClassifier\n",
    "        clf1 = RandomForestClassifier(n_estimators=229,max_depth=18,min_samples_split=3,max_features=None,min_samples_leaf=2,class_weight='balanced')\n",
    "        clf2 = LogisticRegression(solver='liblinear',C=0.20541894220762066,penalty='l1',max_iter=3454,class_weight='balanced')\n",
    "        clf3 = AdaBoostClassifier()\n",
    "        eclf1 = VotingClassifier(estimators=[('gbc', clf1), ('lr', clf2), ('abc', clf3)], voting='soft')\n",
    "        eclf1.fit(X_train_trans, y_train)\n",
    "        predictions = eclf1.predict(X_test_trans)\n",
    "        print(\"Final Accuracy Score \")\n",
    "        print(accuracy_score(y_test, predictions),'i=',i)"
   ]
  },
  {
   "cell_type": "code",
   "execution_count": 146,
   "id": "41419a61",
   "metadata": {},
   "outputs": [
    {
     "name": "stdout",
     "output_type": "stream",
     "text": [
      "Final Accuracy Score \n",
      "              precision    recall  f1-score   support\n",
      "\n",
      "           0       0.87      0.86      0.87      1036\n",
      "           1       0.63      0.65      0.64       373\n",
      "\n",
      "    accuracy                           0.81      1409\n",
      "   macro avg       0.75      0.76      0.75      1409\n",
      "weighted avg       0.81      0.81      0.81      1409\n",
      " i= 15\n"
     ]
    }
   ],
   "source": [
    "pca = PCA(n_components=14)\n",
    "X_train_trans = pca.fit_transform(X_train)\n",
    "X_test_trans = pca.transform(X_test)\n",
    "from sklearn.ensemble import AdaBoostClassifier\n",
    "from sklearn.ensemble import VotingClassifier\n",
    "clf1 = RandomForestClassifier(n_estimators=229,max_depth=18,min_samples_split=3,max_features=None,min_samples_leaf=2,class_weight='balanced')\n",
    "clf2 = LogisticRegression(solver='liblinear',C=0.20541894220762066,penalty='l1',max_iter=3454,class_weight='balanced')\n",
    "clf3 = AdaBoostClassifier()\n",
    "eclf1 = VotingClassifier(estimators=[('gbc', clf1), ('lr', clf2), ('abc', clf3)], voting='hard')\n",
    "eclf1.fit(X_train_trans, y_train)\n",
    "predictions = eclf1.predict(X_test_trans)\n",
    "print(\"Final Accuracy Score \")\n",
    "print(classification_report(y_test, predictions),'i=',i)"
   ]
  },
  {
   "cell_type": "code",
   "execution_count": 144,
   "id": "edec19b2",
   "metadata": {},
   "outputs": [
    {
     "data": {
      "text/plain": [
       "np.float64(0.7852323321791455)"
      ]
     },
     "execution_count": 144,
     "metadata": {},
     "output_type": "execute_result"
    }
   ],
   "source": [
    "cross_val_score(eclf1,X_train_trans,y_train,cv=5,scoring='accuracy').mean()"
   ]
  },
  {
   "cell_type": "markdown",
   "id": "86a6c642",
   "metadata": {},
   "source": [
    "\n",
    "# *Finally Scores*\n",
    "----"
   ]
  }
 ],
 "metadata": {
  "kernelspec": {
   "display_name": "Python 3",
   "language": "python",
   "name": "python3"
  },
  "language_info": {
   "codemirror_mode": {
    "name": "ipython",
    "version": 3
   },
   "file_extension": ".py",
   "mimetype": "text/x-python",
   "name": "python",
   "nbconvert_exporter": "python",
   "pygments_lexer": "ipython3",
   "version": "3.13.5"
  }
 },
 "nbformat": 4,
 "nbformat_minor": 5
}
